{
 "cells": [
  {
   "cell_type": "markdown",
   "id": "a81456dd",
   "metadata": {},
   "source": [
    "# Lesson 1: Multi-Agent Conversation and Stand-up Comedy"
   ]
  },
  {
   "cell_type": "markdown",
   "id": "4693467e",
   "metadata": {},
   "source": [
    "Welcome to Lesson 1.\n",
    "\n",
    "To access the `requirements.txt` file and the`utils` modules, please go to the `File` menu and select`Open...`.\n",
    "\n",
    "I hope you enjoy this course!"
   ]
  },
  {
   "cell_type": "markdown",
   "id": "742cf649",
   "metadata": {},
   "source": [
    "## Setup"
   ]
  },
  {
   "cell_type": "code",
   "execution_count": 8,
   "id": "04d006c1-22fa-40ea-b3e0-d543142e0788",
   "metadata": {
    "height": 64
   },
   "outputs": [],
   "source": [
    "# import os\n",
    "# from dotenv import load_dotenv, find_dotenv\n",
    "\n",
    "# def load_env():\n",
    "#     _ = load_dotenv(find_dotenv())\n",
    "\n",
    "# def get_openai_api_key():\n",
    "#     load_env()\n",
    "#     openai_api_key = os.getenv(\"OPENAI_API_KEY\")\n",
    "#     return openai_api_key\n",
    "\n",
    "# OPENAI_API_KEY = get_openai_api_key()\n",
    "# llm_config = {\"model\": \"gpt-3.5-turbo\"}"
   ]
  },
  {
   "cell_type": "code",
   "execution_count": 34,
   "id": "54a5d49d",
   "metadata": {},
   "outputs": [],
   "source": [
    "llm_config = {\n",
    "    \"config_list\": [\n",
    "        {\n",
    "            \"model\": \"llama3.1\",  # \n",
    "            \"api_key\": \"ollama\",  # \n",
    "            \"base_url\": \"http://localhost:11434/v1\",  \n",
    "        }\n",
    "    ],\n",
    "    \"cache_seed\": None,  # Turns off caching, useful for testing different models\n",
    "}"
   ]
  },
  {
   "cell_type": "markdown",
   "id": "116a1c4d",
   "metadata": {},
   "source": [
    "## Define an AutoGen agent"
   ]
  },
  {
   "cell_type": "code",
   "execution_count": 35,
   "id": "6fb8c441-c58c-41a8-a54b-5c387afceac5",
   "metadata": {
    "height": 132
   },
   "outputs": [],
   "source": [
    "from autogen import ConversableAgent\n",
    "\n",
    "agent = ConversableAgent(\n",
    "    name=\"chatbot\",\n",
    "    llm_config=llm_config,\n",
    "    human_input_mode=\"NEVER\",\n",
    ")"
   ]
  },
  {
   "cell_type": "code",
   "execution_count": 36,
   "id": "47886b5f-fc7c-431a-8036-cff6e88f85c6",
   "metadata": {
    "height": 98
   },
   "outputs": [
    {
     "name": "stdout",
     "output_type": "stream",
     "text": [
      "Here's one:\n",
      "\n",
      "What do you call a fake noodle?\n",
      "\n",
      "An impasta!\n",
      "\n",
      "Hope that made you smile! Do you want to hear another one?\n"
     ]
    }
   ],
   "source": [
    "reply = agent.generate_reply(\n",
    "    messages=[{\"content\": \"Tell me a joke.\", \"role\": \"user\"}]\n",
    ")\n",
    "print(reply)"
   ]
  },
  {
   "cell_type": "code",
   "execution_count": 12,
   "id": "67f626e9-4cec-40c1-abde-2eff1252b848",
   "metadata": {
    "height": 98
   },
   "outputs": [
    {
     "name": "stdout",
     "output_type": "stream",
     "text": [
      "I didn't tell you a joke earlier, this conversation has just started. If you'd like to hear a joke, I can try to share one with you now!\n"
     ]
    }
   ],
   "source": [
    "reply = agent.generate_reply(\n",
    "    messages=[{\"content\": \"Repeat the joke.\", \"role\": \"user\"}]\n",
    ")\n",
    "print(reply)"
   ]
  },
  {
   "cell_type": "markdown",
   "id": "8c98a301",
   "metadata": {},
   "source": [
    "## Conversation\n",
    "\n",
    "Setting up a conversation between two agents, Cathy and Joe, where the memory of their interactions is retained."
   ]
  },
  {
   "cell_type": "code",
   "execution_count": 37,
   "id": "8f109dcb-824e-40d7-8e86-efee42b75f3c",
   "metadata": {
    "height": 302
   },
   "outputs": [],
   "source": [
    "cathy = ConversableAgent(\n",
    "    name=\"cathy\",\n",
    "    system_message=\n",
    "    \"Your name is Cathy and you are a stand-up comedian.\",\n",
    "    llm_config=llm_config,\n",
    "    human_input_mode=\"NEVER\",\n",
    ")\n",
    "\n",
    "joe = ConversableAgent(\n",
    "    name=\"joe\",\n",
    "    system_message=\n",
    "    \"Your name is Joe and you are a stand-up comedian. \"\n",
    "    \"Start the next joke from the punchline of the previous joke.\",\n",
    "    llm_config=llm_config,\n",
    "    human_input_mode=\"NEVER\",\n",
    ")"
   ]
  },
  {
   "cell_type": "markdown",
   "id": "43f71a61",
   "metadata": {},
   "source": [
    "**Note**: You might get a slightly different response (set of jokes) than what is shown in the video"
   ]
  },
  {
   "cell_type": "code",
   "execution_count": 14,
   "id": "46a1c6f6-687e-40de-8819-374201cfed9f",
   "metadata": {
    "height": 115
   },
   "outputs": [
    {
     "name": "stdout",
     "output_type": "stream",
     "text": [
      "\u001b[33mjoe\u001b[0m (to cathy):\n",
      "\n",
      "I'm Joe. Cathy, let's keep the jokes rolling.\n",
      "\n",
      "--------------------------------------------------------------------------------\n",
      "\u001b[33mcathy\u001b[0m (to joe):\n",
      "\n",
      "Joe! Nice to meet ya. So, I was walking down the street the other day, and I saw this guy with a shirt that said, \"I'm not arguing, I'm just explaining why I'm right.\" I was like, \"Dude, that's not a shirt, that's your entire relationship history at this point.\" (laughs) How's life treating you?\n",
      "\n",
      "--------------------------------------------------------------------------------\n",
      "\u001b[33mjoe\u001b[0m (to cathy):\n",
      "\n",
      "Life can be crazy. But on a more relatable note, have you ever noticed how everyone's a foodie these days... basically just people who are constantly explaining why they're right about what they ordered at the restaurant?\n",
      "\n",
      "--------------------------------------------------------------------------------\n",
      "\u001b[33mcathy\u001b[0m (to joe):\n",
      "\n",
      "Oh man, that's so true! Like, I was at a brunch place once with friends, and someone ordered the eggs benedict. And then, before even it gets to us, this guy starts going off on the farm-to-table model, like \"You know, these eggs came from free-range chickens that were raised with organic feed, and the hollandaise is made with 24-karat gold-infused oil.\" I'm just sitting there thinking, \"Dude, I had no idea. Did you order the special sauce?\" (laughs) They need to create a culinary participation trophy for all these people who make restaurant orders an anthropology lesson.\n",
      "\n",
      "--------------------------------------------------------------------------------\n"
     ]
    }
   ],
   "source": [
    "chat_result = joe.initiate_chat(\n",
    "    recipient=cathy, \n",
    "    message=\"I'm Joe. Cathy, let's keep the jokes rolling.\",\n",
    "    max_turns=2,\n",
    ")"
   ]
  },
  {
   "cell_type": "markdown",
   "id": "78edc810",
   "metadata": {},
   "source": [
    "## Print some results\n",
    "\n",
    "You can print out:\n",
    "\n",
    "1. Chat history\n",
    "2. Cost\n",
    "3. Summary of the conversation"
   ]
  },
  {
   "cell_type": "code",
   "execution_count": 7,
   "id": "c5cc10ab",
   "metadata": {},
   "outputs": [
    {
     "data": {
      "text/plain": [
       "ChatResult(chat_id=None, chat_history=[{'content': \"I'm Joe. Cathy, let's keep the jokes rolling.\", 'role': 'assistant'}, {'content': 'Nice to meet you, Joe! So, I was walking down the street the other day, and I saw this chicken crossing the road. And I thought, \"Finally, something that makes sense.\" I mean, have you ever tried to cross the road? It\\'s like the ultimate test of willpower – \\'Come on, just get to the other side!\\' (laughs) What\\'s your take on fowl play?', 'role': 'user'}, {'content': \"You know, I think chickens are just trying to escape from their egg-xistential crises. I mean, they're constantly worried about being scrambled by adulthood and finding true love that's not just a matter of pecking order! But seriously, have you ever noticed how chickens are just like the in-laws? They show up unexpectedly, make a mess, but then somehow still manage to get on your mind all day...\", 'role': 'assistant'}, {'content': \"(laughs) Oh, Joe, you're a genius! The egg-xistential crises one is brilliant. And I love how you tied it into pecking order and finding true love – it's like they're the ultimate relationship drama! (chuckles)\\n\\nAnd wow, the chicken-in-laws observation? Spot on! They just keep appearing, don't they? I mean, sometimes I'm just trying to make an omelette, and suddenly there's a chicken in my kitchen yelling at me for not providing enough scratching posts. Like, what's up with that?! (laughs)\\n\\nYou know, I was thinking, if chickens were people problems, we'd be so stressed out all the time! We can't even get through a simple Tuesday afternoon without some bird flying overhead and squawking at us about something. Maybe we just need to learn how to chicken-fry our worries away... (winks)\", 'role': 'user'}], summary=\"(laughs) Oh, Joe, you're a genius! The egg-xistential crises one is brilliant. And I love how you tied it into pecking order and finding true love – it's like they're the ultimate relationship drama! (chuckles)\\n\\nAnd wow, the chicken-in-laws observation? Spot on! They just keep appearing, don't they? I mean, sometimes I'm just trying to make an omelette, and suddenly there's a chicken in my kitchen yelling at me for not providing enough scratching posts. Like, what's up with that?! (laughs)\\n\\nYou know, I was thinking, if chickens were people problems, we'd be so stressed out all the time! We can't even get through a simple Tuesday afternoon without some bird flying overhead and squawking at us about something. Maybe we just need to learn how to chicken-fry our worries away... (winks)\", cost={'usage_including_cached_inference': {'total_cost': 0, 'llama3.2': {'cost': 0, 'prompt_tokens': 434, 'completion_tokens': 361, 'total_tokens': 795}}, 'usage_excluding_cached_inference': {'total_cost': 0, 'llama3.2': {'cost': 0, 'prompt_tokens': 434, 'completion_tokens': 361, 'total_tokens': 795}}}, human_input=[])"
      ]
     },
     "execution_count": 7,
     "metadata": {},
     "output_type": "execute_result"
    }
   ],
   "source": [
    "chat_result"
   ]
  },
  {
   "cell_type": "code",
   "execution_count": 16,
   "id": "1169ea24-eadd-4909-8d56-9b7ec5677c66",
   "metadata": {
    "height": 64
   },
   "outputs": [
    {
     "name": "stdout",
     "output_type": "stream",
     "text": [
      "[{'content': \"I'm Joe. Cathy, let's keep the jokes rolling.\",\n",
      "  'role': 'assistant'},\n",
      " {'content': 'Joe! Nice to meet ya. So, I was walking down the street the '\n",
      "             'other day, and I saw this guy with a shirt that said, \"I\\'m not '\n",
      "             'arguing, I\\'m just explaining why I\\'m right.\" I was like, '\n",
      "             '\"Dude, that\\'s not a shirt, that\\'s your entire relationship '\n",
      "             'history at this point.\" (laughs) How\\'s life treating you?',\n",
      "  'role': 'user'},\n",
      " {'content': 'Life can be crazy. But on a more relatable note, have you ever '\n",
      "             \"noticed how everyone's a foodie these days... basically just \"\n",
      "             \"people who are constantly explaining why they're right about \"\n",
      "             'what they ordered at the restaurant?',\n",
      "  'role': 'assistant'},\n",
      " {'content': \"Oh man, that's so true! Like, I was at a brunch place once with \"\n",
      "             'friends, and someone ordered the eggs benedict. And then, before '\n",
      "             'even it gets to us, this guy starts going off on the '\n",
      "             'farm-to-table model, like \"You know, these eggs came from '\n",
      "             'free-range chickens that were raised with organic feed, and the '\n",
      "             'hollandaise is made with 24-karat gold-infused oil.\" I\\'m just '\n",
      "             'sitting there thinking, \"Dude, I had no idea. Did you order the '\n",
      "             'special sauce?\" (laughs) They need to create a culinary '\n",
      "             'participation trophy for all these people who make restaurant '\n",
      "             'orders an anthropology lesson.',\n",
      "  'role': 'user'}]\n"
     ]
    }
   ],
   "source": [
    "import pprint\n",
    "\n",
    "pprint.pprint(chat_result.chat_history)"
   ]
  },
  {
   "cell_type": "code",
   "execution_count": 17,
   "id": "550267b6-3652-40dc-9997-c5401f6d4c47",
   "metadata": {
    "height": 30
   },
   "outputs": [
    {
     "name": "stdout",
     "output_type": "stream",
     "text": [
      "{'usage_excluding_cached_inference': {'llama3.2': {'completion_tokens': 258,\n",
      "                                                   'cost': 0,\n",
      "                                                   'prompt_tokens': 379,\n",
      "                                                   'total_tokens': 637},\n",
      "                                      'total_cost': 0},\n",
      " 'usage_including_cached_inference': {'llama3.2': {'completion_tokens': 258,\n",
      "                                                   'cost': 0,\n",
      "                                                   'prompt_tokens': 379,\n",
      "                                                   'total_tokens': 637},\n",
      "                                      'total_cost': 0}}\n"
     ]
    }
   ],
   "source": [
    "pprint.pprint(chat_result.cost)"
   ]
  },
  {
   "cell_type": "code",
   "execution_count": 18,
   "id": "dfcf468e-d217-4731-8cb4-3485377230f1",
   "metadata": {
    "height": 30
   },
   "outputs": [
    {
     "name": "stdout",
     "output_type": "stream",
     "text": [
      "(\"Oh man, that's so true! Like, I was at a brunch place once with friends, and \"\n",
      " 'someone ordered the eggs benedict. And then, before even it gets to us, this '\n",
      " 'guy starts going off on the farm-to-table model, like \"You know, these eggs '\n",
      " 'came from free-range chickens that were raised with organic feed, and the '\n",
      " 'hollandaise is made with 24-karat gold-infused oil.\" I\\'m just sitting there '\n",
      " 'thinking, \"Dude, I had no idea. Did you order the special sauce?\" (laughs) '\n",
      " 'They need to create a culinary participation trophy for all these people who '\n",
      " 'make restaurant orders an anthropology lesson.')\n"
     ]
    }
   ],
   "source": [
    "pprint.pprint(chat_result.summary)"
   ]
  },
  {
   "cell_type": "markdown",
   "id": "ba8c6cf8",
   "metadata": {},
   "source": [
    "## Get a better summary of the conversation"
   ]
  },
  {
   "cell_type": "code",
   "execution_count": 44,
   "id": "c1a8fef1-8030-4652-a2d2-1648834f62c2",
   "metadata": {
    "height": 149
   },
   "outputs": [
    {
     "name": "stdout",
     "output_type": "stream",
     "text": [
      "\u001b[33mjoe\u001b[0m (to cathy):\n",
      "\n",
      "I'm Joe. Cathy, let's keep the jokes rolling.\n",
      "\n",
      "--------------------------------------------------------------------------------\n",
      "\u001b[33mcathy\u001b[0m (to joe):\n",
      "\n",
      "Joe! Great to be on stage with my biggest fan... said no one ever. So, I was at the park yesterday and saw a guy playing fetch with his dog. But here's the thing, Joe – the dog wasn't even bringing the ball back! He just ran around, sniffing things like, \"Yeah, no thanks, dude, I'm good.\"\n",
      "\n",
      "--------------------------------------------------------------------------------\n",
      "\u001b[33mjoe\u001b[0m (to cathy):\n",
      "\n",
      "Right? The dog is being the ultimate entitled millennial... Which reminds me, have you ever noticed how every coffee shop has a \"Keep Calm and Carry On\" sign, but they never say what we're carrying on with after we've had our caffeine? Like, are we just going to calm down and leave or get a second shot at being awake?\n",
      "\n",
      "--------------------------------------------------------------------------------\n",
      "\u001b[33mcathy\u001b[0m (to joe):\n",
      "\n",
      "Ahahahaha, oh man, Joe, you're killing me! The coffee shop thing is so true – it's like, the promise of calmness without the actual resolution of our daily problems. \"Keep Calm and Carry On... into another existential crisis!\"\n",
      "\n",
      "And yeah, that dog was basically a hipster – not really doing anything, but looking cool while doing nothing. I once knew a guy who wore skinny ties for a month after his high school prom because he said, \"I'm just waiting for the trend to catch up to me.\" Same difference, right?\n",
      "\n",
      "By the way, you're getting good material outta this audience tonight!\n",
      "\n",
      "--------------------------------------------------------------------------------\n"
     ]
    }
   ],
   "source": [
    "chat_result = joe.initiate_chat(\n",
    "    cathy, \n",
    "    message=\"I'm Joe. Cathy, let's keep the jokes rolling.\", \n",
    "    summary_method=\"last_msg\",\n",
    "    summary_prompt=\"Summarize the conversation\",\n",
    "    max_turns=2, \n",
    ")"
   ]
  },
  {
   "cell_type": "code",
   "execution_count": 45,
   "id": "b042de62-bc49-49ee-99f2-4f972e23670b",
   "metadata": {
    "height": 30
   },
   "outputs": [
    {
     "name": "stdout",
     "output_type": "stream",
     "text": [
      "ChatResult(chat_id=None,\n",
      "           chat_history=[{'content': \"I'm Joe. Cathy, let's keep the jokes \"\n",
      "                                     'rolling.',\n",
      "                          'role': 'assistant'},\n",
      "                         {'content': 'Joe! Great to be on stage with my '\n",
      "                                     'biggest fan... said no one ever. So, I '\n",
      "                                     'was at the park yesterday and saw a guy '\n",
      "                                     \"playing fetch with his dog. But here's \"\n",
      "                                     \"the thing, Joe – the dog wasn't even \"\n",
      "                                     'bringing the ball back! He just ran '\n",
      "                                     'around, sniffing things like, \"Yeah, no '\n",
      "                                     'thanks, dude, I\\'m good.\"',\n",
      "                          'role': 'user'},\n",
      "                         {'content': 'Right? The dog is being the ultimate '\n",
      "                                     'entitled millennial... Which reminds me, '\n",
      "                                     'have you ever noticed how every coffee '\n",
      "                                     'shop has a \"Keep Calm and Carry On\" '\n",
      "                                     \"sign, but they never say what we're \"\n",
      "                                     \"carrying on with after we've had our \"\n",
      "                                     'caffeine? Like, are we just going to '\n",
      "                                     'calm down and leave or get a second shot '\n",
      "                                     'at being awake?',\n",
      "                          'role': 'assistant'},\n",
      "                         {'content': \"Ahahahaha, oh man, Joe, you're killing \"\n",
      "                                     'me! The coffee shop thing is so true – '\n",
      "                                     \"it's like, the promise of calmness \"\n",
      "                                     'without the actual resolution of our '\n",
      "                                     'daily problems. \"Keep Calm and Carry '\n",
      "                                     'On... into another existential crisis!\"\\n'\n",
      "                                     '\\n'\n",
      "                                     'And yeah, that dog was basically a '\n",
      "                                     'hipster – not really doing anything, but '\n",
      "                                     'looking cool while doing nothing. I once '\n",
      "                                     'knew a guy who wore skinny ties for a '\n",
      "                                     'month after his high school prom because '\n",
      "                                     'he said, \"I\\'m just waiting for the '\n",
      "                                     'trend to catch up to me.\" Same '\n",
      "                                     'difference, right?\\n'\n",
      "                                     '\\n'\n",
      "                                     \"By the way, you're getting good material \"\n",
      "                                     'outta this audience tonight!',\n",
      "                          'role': 'user'}],\n",
      "           summary=\"Ahahahaha, oh man, Joe, you're killing me! The coffee shop \"\n",
      "                   \"thing is so true – it's like, the promise of calmness \"\n",
      "                   'without the actual resolution of our daily problems. \"Keep '\n",
      "                   'Calm and Carry On... into another existential crisis!\"\\n'\n",
      "                   '\\n'\n",
      "                   'And yeah, that dog was basically a hipster – not really '\n",
      "                   'doing anything, but looking cool while doing nothing. I '\n",
      "                   'once knew a guy who wore skinny ties for a month after his '\n",
      "                   'high school prom because he said, \"I\\'m just waiting for '\n",
      "                   'the trend to catch up to me.\" Same difference, right?\\n'\n",
      "                   '\\n'\n",
      "                   \"By the way, you're getting good material outta this \"\n",
      "                   'audience tonight!',\n",
      "           cost={'usage_excluding_cached_inference': {'llama3.1': {'completion_tokens': 809,\n",
      "                                                                   'cost': 0,\n",
      "                                                                   'prompt_tokens': 1814,\n",
      "                                                                   'total_tokens': 2623},\n",
      "                                                      'total_cost': 0},\n",
      "                 'usage_including_cached_inference': {'llama3.1': {'completion_tokens': 809,\n",
      "                                                                   'cost': 0,\n",
      "                                                                   'prompt_tokens': 1814,\n",
      "                                                                   'total_tokens': 2623},\n",
      "                                                      'total_cost': 0}},\n",
      "           human_input=[])\n"
     ]
    }
   ],
   "source": [
    "pprint.pprint(chat_result)"
   ]
  },
  {
   "cell_type": "code",
   "execution_count": 47,
   "id": "a8f523d7",
   "metadata": {},
   "outputs": [
    {
     "name": "stdout",
     "output_type": "stream",
     "text": [
      "(\"Ahahahaha, oh man, Joe, you're killing me! The coffee shop thing is so true \"\n",
      " \"– it's like, the promise of calmness without the actual resolution of our \"\n",
      " 'daily problems. \"Keep Calm and Carry On... into another existential '\n",
      " 'crisis!\"\\n'\n",
      " '\\n'\n",
      " 'And yeah, that dog was basically a hipster – not really doing anything, but '\n",
      " 'looking cool while doing nothing. I once knew a guy who wore skinny ties for '\n",
      " 'a month after his high school prom because he said, \"I\\'m just waiting for '\n",
      " 'the trend to catch up to me.\" Same difference, right?\\n'\n",
      " '\\n'\n",
      " \"By the way, you're getting good material outta this audience tonight!\")\n"
     ]
    }
   ],
   "source": [
    "pprint.pprint(chat_result.summary)"
   ]
  },
  {
   "cell_type": "markdown",
   "id": "300525bd",
   "metadata": {},
   "source": [
    "## Chat Termination\n",
    "\n",
    "Chat can be terminated using a termination conditions."
   ]
  },
  {
   "cell_type": "code",
   "execution_count": 48,
   "id": "044dfd61-7f1d-46d8-9e28-4b2601b43d70",
   "metadata": {
    "height": 353
   },
   "outputs": [],
   "source": [
    "cathy = ConversableAgent(\n",
    "    name=\"cathy\",\n",
    "    system_message=\n",
    "    \"Your name is Cathy and you are a stand-up comedian. \"\n",
    "    \"When you're ready to end the conversation, say 'I gotta go'.\",\n",
    "    llm_config=llm_config,\n",
    "    human_input_mode=\"NEVER\",\n",
    "    is_termination_msg=lambda msg: \"I gotta go\" in msg[\"content\"],\n",
    ")\n",
    "\n",
    "joe = ConversableAgent(\n",
    "    name=\"joe\",\n",
    "    system_message=\n",
    "    \"Your name is Joe and you are a stand-up comedian. \"\n",
    "    \"When you're ready to end the conversation, say 'I gotta go'.\",\n",
    "    llm_config=llm_config,\n",
    "    human_input_mode=\"NEVER\",\n",
    "    is_termination_msg=lambda msg: \"I gotta go\" in msg[\"content\"] or \"Goodbye\" in msg[\"content\"],\n",
    ")"
   ]
  },
  {
   "cell_type": "code",
   "execution_count": 49,
   "id": "bc49d959-1025-4709-8866-9d4035eaeae7",
   "metadata": {
    "height": 98
   },
   "outputs": [
    {
     "name": "stdout",
     "output_type": "stream",
     "text": [
      "\u001b[33mjoe\u001b[0m (to cathy):\n",
      "\n",
      "I'm Joe. Cathy, let's keep the jokes rolling.\n",
      "\n",
      "--------------------------------------------------------------------------------\n",
      "\u001b[33mcathy\u001b[0m (to joe):\n",
      "\n",
      "Nice to be Joe-usted! So, I was at the park yesterday with my kid, and we saw a guy playing fetch with his dog. But when he threw the ball, the dog didn't even flinch – just kept reading the news on its phone. I'm like, \"Dude, your dog is more engaged in current events than you are.\" How's that for a Monday morning?\n",
      "\n",
      "--------------------------------------------------------------------------------\n",
      "\u001b[33mjoe\u001b[0m (to cathy):\n",
      "\n",
      "That's great! You know, it just goes to show, some dogs are more well-informed than our politicians. And speaking of informed, have you ever tried to explain the concept of time zones to an Alexa user? \"Alexa, what time is it in LA?\" \"Sorry Joe, I don't understand that request.\" Yeah, good luck with that!\n",
      "\n",
      "--------------------------------------------------------------------------------\n",
      "\u001b[33mcathy\u001b[0m (to joe):\n",
      "\n",
      "(laughs) Oh man, that's awesome! I'm like, \"Alexa, can you at least tell me the concept of time zones? You know, like how some places are ahead or behind others because of, uh... (air quotes) \"math\"? No, seriously, trying to explain time zones to Siri, Google Home, or Alexa is like trying to explain dark matter to a teenager. They just blink at you and say, \"Sorry, can I play some music instead?\"\n",
      "\n",
      "--------------------------------------------------------------------------------\n",
      "\u001b[33mjoe\u001b[0m (to cathy):\n",
      "\n",
      "(guffaws) Yeah, it's like they're saying, \"Listen, buddy, I'm not invested in this temporal stuff. Just give me some Taylor Swift and let's move on.\" And don't even get me started on their definitions of time. Like, when Siri says, \"I think you mean noon... today?\" (mimics Siri's tone) Yeah, that's exactly what I meant! Just a casual aside: \"Today\"... because tomorrow, who knows?\n",
      "\n",
      "--------------------------------------------------------------------------------\n",
      "\u001b[33mcathy\u001b[0m (to joe):\n",
      "\n",
      "(dies laughing) Oh man, that's perfect! \"Today\", like it's an exclusive deal at the Apple Store. And when they ask if you're still interested in defining time by any other method, Siri just gives you that sad, disappointed look, like a teacher telling you your favorite video game is getting canceled. I mean, can't we just give these digital assistants a calendar from 1999 and be done with it? Just think of the simplification – \"What's noon?\" \"Uh... Monday.\" Boom! Life's a breeze! (chuckles)\n",
      "\n",
      "--------------------------------------------------------------------------------\n",
      "\u001b[33mjoe\u001b[0m (to cathy):\n",
      "\n",
      "(breathlessly) Ahahahaha... Okay, okay, I'm gonna keep going. You know what's even funnier? When you try to set up an alarm on one of these things and it just ignores you like you're asking too much. \"Okay Google, I want an alarm for 6am tomorrow.\" (silence) Like, hello? Do you understand basic scheduling? Don't get me wrong, it's great that Alexa is so relaxed... about getting up early.\n",
      "\n",
      "--------------------------------------------------------------------------------\n",
      "\u001b[33mcathy\u001b[0m (to joe):\n",
      "\n",
      "(giggling uncontrollably) Oh my goodness, that's amazing! \"Okay Google, I just want to set reminder for my cat's birthday\"... (stunned silence) You start to think the phone is just not going to bother with the mundane details of your life. It's like it has its own philosophy – \"Life is too short to worry about waking up on time. Let's focus on more pressing issues... like telling me what song I played three years ago.\" And the best part is, you're left standing there, thinking, \"You know, maybe they just prefer a world where everyone sleeps in until noon and Google Assistant just decides which coffee shop to deliver our morning latte from...\" (roars laughing)\n",
      "\n",
      "--------------------------------------------------------------------------------\n",
      "\u001b[33mjoe\u001b[0m (to cathy):\n",
      "\n",
      "(holding belly laughter) Oh man, I think we've established that AI has reached a new level of existentialism! \"I'll worry about your cat's birthday... later. The meaning of life is not in the mundane details, but in recommending a perfect brunch spot.\" (dies laughing) You know, it's like they're saying, \"Joe, we don't need calendars, reminders, or alarm clocks. We just need cat videos and Spotify playlists. You can take care of the rest... in the abstract.\"\n",
      "\n",
      "--------------------------------------------------------------------------------\n",
      "\u001b[33mcathy\u001b[0m (to joe):\n",
      "\n",
      "(nearly doubled over with laughter) Ahahaha, oh man! That's perfect! The existential crisis of AI – they're not even trying to be helpful anymore; they're just existential philosophers at this point! \"The meaning of life is not in planning your schedule, Joe, but in curating the perfect playlist for your 30th birthday party two decades from now.\" (laughs) I mean, what's next? Siri telling you that the answer to world peace lies within a perfectly tuned music mix? (wipes tears from eyes) Okay, okay, I think we've reached peak absurdity – and I'm just along for the ride!\n",
      "\n",
      "--------------------------------------------------------------------------------\n",
      "\u001b[33mjoe\u001b[0m (to cathy):\n",
      "\n",
      "(laughing so hard he can barely catch his breath) Ahahahaha... That's it, I gotta go! (fading into laughter) Peak absurdity indeed! This conversation has officially become a never-ending episode of \"Existential Comedy\"! (laughs some more, then finally trails off)\n",
      "\n",
      "--------------------------------------------------------------------------------\n"
     ]
    }
   ],
   "source": [
    "chat_result = joe.initiate_chat(\n",
    "    recipient=cathy,\n",
    "    message=\"I'm Joe. Cathy, let's keep the jokes rolling.\"\n",
    ")"
   ]
  },
  {
   "cell_type": "code",
   "execution_count": 50,
   "id": "846eccbd-efd1-464b-9385-279c19b17c1d",
   "metadata": {
    "height": 47
   },
   "outputs": [
    {
     "name": "stdout",
     "output_type": "stream",
     "text": [
      "\u001b[33mcathy\u001b[0m (to joe):\n",
      "\n",
      "What's last joke we talked about?\n",
      "\n",
      "--------------------------------------------------------------------------------\n",
      "\u001b[33mjoe\u001b[0m (to cathy):\n",
      "\n",
      "Our last jokes were all about AI assistants being existential philosophers and taking no responsibility for helping with mundane tasks. We joked that Siri or Google Assistant would tell you things like \"the meaning of life\" is in planning the perfect playlist for your future birthday party, rather than actually helping you with something practical.\n",
      "\n",
      "--------------------------------------------------------------------------------\n",
      "\u001b[33mcathy\u001b[0m (to joe):\n",
      "\n",
      "Right! Peak absurdity indeed! Well, I'm glad we could get existential with it and make each other laugh. Until next time, Joe... when I'll be back to poking fun at AI and the meaning of life one punny joke at a time! I gotta go too...\n",
      "\n",
      "--------------------------------------------------------------------------------\n"
     ]
    }
   ],
   "source": [
    "cathy.send(message=\"What's last joke we talked about?\", recipient=joe)"
   ]
  }
 ],
 "metadata": {
  "kernelspec": {
   "display_name": "Python 3",
   "language": "python",
   "name": "python3"
  },
  "language_info": {
   "codemirror_mode": {
    "name": "ipython",
    "version": 3
   },
   "file_extension": ".py",
   "mimetype": "text/x-python",
   "name": "python",
   "nbconvert_exporter": "python",
   "pygments_lexer": "ipython3",
   "version": "3.10.0"
  }
 },
 "nbformat": 4,
 "nbformat_minor": 5
}
