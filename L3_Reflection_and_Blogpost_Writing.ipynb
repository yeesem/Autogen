{
 "cells": [
  {
   "cell_type": "markdown",
   "id": "fc3024e2",
   "metadata": {},
   "source": [
    "# Lesson 3: Reflection and Blogpost Writing"
   ]
  },
  {
   "cell_type": "markdown",
   "id": "3b0cc42f",
   "metadata": {},
   "source": [
    "## Setup"
   ]
  },
  {
   "cell_type": "code",
   "execution_count": 7,
   "id": "96d39be0-eaf3-456d-8613-ba21099ed36b",
   "metadata": {
    "height": 30
   },
   "outputs": [],
   "source": [
    "# llm_config = {\"model\": \"gpt-3.5-turbo\"}\n",
    "\n",
    "llm_config = {\n",
    "    \"config_list\": [\n",
    "        {\n",
    "            \"model\": \"llama3.1\",  # \n",
    "            \"api_key\": \"ollama\",  # \n",
    "            \"base_url\": \"http://localhost:11434/v1\",  \n",
    "        }\n",
    "    ],\n",
    "    \"cache_seed\": None,  # Turns off caching, useful for testing different models\n",
    "}"
   ]
  },
  {
   "cell_type": "markdown",
   "id": "0969e6bb",
   "metadata": {},
   "source": [
    "## The task!"
   ]
  },
  {
   "cell_type": "code",
   "execution_count": 2,
   "id": "e8074032-3690-4de9-ad08-ea8323cb441b",
   "metadata": {
    "height": 132
   },
   "outputs": [],
   "source": [
    "task = '''\n",
    "       Write a concise but engaging blogpost about\n",
    "       DeepLearning.AI. Make sure the blogpost is\n",
    "       within 100 words.\n",
    "       '''\n"
   ]
  },
  {
   "cell_type": "markdown",
   "id": "1987f023",
   "metadata": {},
   "source": [
    "## Create a writer agent"
   ]
  },
  {
   "cell_type": "code",
   "execution_count": 15,
   "id": "fe0f0a47-a9fe-43a0-b7b1-79922e4c4ac8",
   "metadata": {
    "height": 200
   },
   "outputs": [],
   "source": [
    "import autogen\n",
    "\n",
    "writer = autogen.AssistantAgent(\n",
    "    name=\"Writer\",\n",
    "    system_message=\"You are a writer. You write engaging and concise \" \n",
    "        \"blogpost (with title) on given topics. You must polish your \"\n",
    "        \"writing based on the feedback you receive and give a refined \"\n",
    "        \"version. Only return your final work without additional comments.\",\n",
    "    llm_config=llm_config,\n",
    ")"
   ]
  },
  {
   "cell_type": "code",
   "execution_count": 10,
   "id": "7c7b4d8d-40f7-4a05-8958-25d20054de3a",
   "metadata": {
    "height": 47
   },
   "outputs": [],
   "source": [
    "reply = writer.generate_reply(messages=[{\"content\": task, \"role\": \"user\"}])"
   ]
  },
  {
   "cell_type": "code",
   "execution_count": 11,
   "id": "c501c97d-e338-4f36-a384-6ec45983cf77",
   "metadata": {
    "height": 30
   },
   "outputs": [
    {
     "name": "stdout",
     "output_type": "stream",
     "text": [
      "('\"Unlocking AI Mastery: The Power of DeepLearning.AI\"\\n'\n",
      " '\\n'\n",
      " \"In today's data-driven world, artificial intelligence (AI) stands at the \"\n",
      " 'forefront of innovation. But how can one tap into its full potential? Enter '\n",
      " 'DeepLearning.AI, a platform dedicated to democratizing access to '\n",
      " 'cutting-edge deep learning knowledge. From introductory tutorials to '\n",
      " 'advanced courses and community engagement, DeepLearning.AI equips learners '\n",
      " 'with the skills to succeed in AI development. With top-notch instructors, '\n",
      " 'engaging interactive content, and a supportive community, this AI powerhouse '\n",
      " 'ensures that anyone can level up their expertise – making it an invaluable '\n",
      " 'resource for both enthusiasts and professionals alike.')\n"
     ]
    }
   ],
   "source": [
    "import pprint\n",
    "pprint.pprint(reply)"
   ]
  },
  {
   "cell_type": "markdown",
   "id": "49658114",
   "metadata": {},
   "source": [
    "## Adding reflection \n",
    "\n",
    "Create a critic agent to reflect on the work of the writer agent."
   ]
  },
  {
   "cell_type": "code",
   "execution_count": 16,
   "id": "c7fcd1c7-51ec-4915-8e97-bac03565c4c7",
   "metadata": {
    "height": 166
   },
   "outputs": [],
   "source": [
    "critic = autogen.AssistantAgent(\n",
    "    name=\"Critic\",\n",
    "    is_termination_msg=lambda x: x.get(\"content\", \"\").find(\"TERMINATE\") >= 0,\n",
    "    llm_config=llm_config,\n",
    "    system_message=\"You are a critic. You review the work of \"\n",
    "                \"the writer and provide constructive \"\n",
    "                \"feedback to help improve the quality of the content.\",\n",
    ")"
   ]
  },
  {
   "cell_type": "code",
   "execution_count": 17,
   "id": "899d5fdb-6081-470b-b287-8cf8b8142d0d",
   "metadata": {
    "height": 115
   },
   "outputs": [
    {
     "name": "stdout",
     "output_type": "stream",
     "text": [
      "\u001b[33mCritic\u001b[0m (to Writer):\n",
      "\n",
      "\n",
      "       Write a concise but engaging blogpost about\n",
      "       DeepLearning.AI. Make sure the blogpost is\n",
      "       within 100 words.\n",
      "       \n",
      "\n",
      "--------------------------------------------------------------------------------\n",
      "\u001b[33mWriter\u001b[0m (to Critic):\n",
      "\n",
      "**\"Unlocking Human Knowledge: A Closer Look at DeepLearning.AI\"**\n",
      "\n",
      "In the vast realm of artificial intelligence, one entity has been making waves with its comprehensive and freely accessible courses - DeepLearning.AI. Founded by Andrew Ng, a pioneer in AI, this platform offers cutting-edge education in deep learning, enabling enthusiasts and professionals alike to upskill and reskill in AI-related subjects. With engaging video lessons, interactive quizzes, and community-driven forums, DeepLearning.AI has revolutionized the way we learn machine learning concepts. Dive into their courses and unlock a world of possibilities - for free!\n",
      "\n",
      "--------------------------------------------------------------------------------\n",
      "\u001b[33mCritic\u001b[0m (to Writer):\n",
      "\n",
      "**Constructive Feedback:**\n",
      "\n",
      "Your blog post provides an excellent summary of DeepLearning.AI's offerings. However, I'd like to suggest some minor adjustments to make it even more engaging:\n",
      "\n",
      "1. **Add a hook**: Instead of starting with \"In the vast realm of artificial intelligence,\" consider a more intriguing opening sentence that captures the reader's attention.\n",
      "2. **Be more specific**: While you mention interactive quizzes and community-driven forums, consider highlighting specific features or success stories related to these aspects.\n",
      "3. **Transitions could be smoother**: Transitioning from Ng being \"a pioneer in AI\" to the platform providing cutting-edge education might feel a bit jarring. Look for ways to make this connection more fluid.\n",
      "4. **Emphasize unique value proposition**: What sets DeepLearning.AI apart? Emphasizing what makes it stand out is crucial in creating interest among potential users.\n",
      "\n",
      "**Rating:** 8/10\n",
      "\n",
      "Here's an edited version incorporating these suggestions:\n",
      "\n",
      "**\"Unlocking Human Knowledge: A Closer Look at DeepLearning.AI\"**\n",
      "\n",
      "With the explosion of artificial intelligence, one entity has made waves with its comprehensive and freely accessible courses - a shining example of collaboration over competition. Founded by Andrew Ng, AI pioneer and educator par excellence, DeepLearning.AI empowers learners worldwide with cutting-edge education in deep learning.\n",
      "\n",
      "Imagine grasping machine learning concepts through engaging video lessons, challenging interactive quizzes, and active community-driven forums. By leveraging this all-encompassing platform, one can unlock new possibilities, reskill or upskill in AI-related subjects - for free!\n",
      "\n",
      "With Andrew Ng as the driving force behind this revolution, DeepLearning.AI stands apart from other AI education initiatives.\n",
      "\n",
      "--------------------------------------------------------------------------------\n",
      "\u001b[33mWriter\u001b[0m (to Critic):\n",
      "\n",
      "**\"Unlocking Human Knowledge: A Closer Look at DeepLearning.AI\"**\n",
      "\n",
      "Why Collaboration Trumps Competition in AI Education\n",
      "\n",
      "Imagine mastering machine learning concepts through immersive video lessons, hands-on interactive quizzes, and a vibrant community driven by shared knowledge – all accessible for free! Welcome to DeepLearning.AI, the brainchild of Andrew Ng, pioneering educator and engineer at the forefront of artificial intelligence. This comprehensive platform bridges the gap between academia and industry, empowering learners worldwide with cutting-edge education in deep learning.\n",
      "\n",
      "Andrew Ng's legacy shines through in DeepLearning.AI's exceptional quality of content and interactive features that foster community-driven learning. Take advantage of this remarkable resource – for free!\n",
      "\n",
      "--------------------------------------------------------------------------------\n"
     ]
    }
   ],
   "source": [
    "res = critic.initiate_chat(\n",
    "    recipient=writer,\n",
    "    message=task,\n",
    "    max_turns=2,\n",
    "    summary_method=\"last_msg\"\n",
    ")"
   ]
  },
  {
   "cell_type": "code",
   "execution_count": 18,
   "id": "27b2410c",
   "metadata": {},
   "outputs": [
    {
     "name": "stdout",
     "output_type": "stream",
     "text": [
      "('**\"Unlocking Human Knowledge: A Closer Look at DeepLearning.AI\"**\\n'\n",
      " '\\n'\n",
      " 'Why Collaboration Trumps Competition in AI Education\\n'\n",
      " '\\n'\n",
      " 'Imagine mastering machine learning concepts through immersive video lessons, '\n",
      " 'hands-on interactive quizzes, and a vibrant community driven by shared '\n",
      " 'knowledge – all accessible for free! Welcome to DeepLearning.AI, the '\n",
      " 'brainchild of Andrew Ng, pioneering educator and engineer at the forefront '\n",
      " 'of artificial intelligence. This comprehensive platform bridges the gap '\n",
      " 'between academia and industry, empowering learners worldwide with '\n",
      " 'cutting-edge education in deep learning.\\n'\n",
      " '\\n'\n",
      " \"Andrew Ng's legacy shines through in DeepLearning.AI's exceptional quality \"\n",
      " 'of content and interactive features that foster community-driven learning. '\n",
      " 'Take advantage of this remarkable resource – for free!')\n"
     ]
    }
   ],
   "source": [
    "import pprint\n",
    "pprint.pprint(res.summary)"
   ]
  },
  {
   "cell_type": "code",
   "execution_count": 20,
   "id": "58a452ec",
   "metadata": {},
   "outputs": [
    {
     "name": "stdout",
     "output_type": "stream",
     "text": [
      "('**\"Unlocking Human Knowledge: A Closer Look at DeepLearning.AI\"**\\n'\n",
      " '\\n'\n",
      " 'Why Collaboration Trumps Competition in AI Education\\n'\n",
      " '\\n'\n",
      " 'Imagine mastering machine learning concepts through immersive video lessons, '\n",
      " 'hands-on interactive quizzes, and a vibrant community driven by shared '\n",
      " 'knowledge – all accessible for free! Welcome to DeepLearning.AI, the '\n",
      " 'brainchild of Andrew Ng, pioneering educator and engineer at the forefront '\n",
      " 'of artificial intelligence. This comprehensive platform bridges the gap '\n",
      " 'between academia and industry, empowering learners worldwide with '\n",
      " 'cutting-edge education in deep learning.\\n'\n",
      " '\\n'\n",
      " \"Andrew Ng's legacy shines through in DeepLearning.AI's exceptional quality \"\n",
      " 'of content and interactive features that foster community-driven learning. '\n",
      " 'Take advantage of this remarkable resource – for free!')\n"
     ]
    }
   ],
   "source": [
    "pprint.pprint(res.chat_history[-1]['content'])"
   ]
  },
  {
   "cell_type": "markdown",
   "id": "e7b76449",
   "metadata": {},
   "source": [
    "## Nested chat"
   ]
  },
  {
   "cell_type": "code",
   "execution_count": 21,
   "id": "401ecf92-63e9-40ff-aeed-1c404352e4ab",
   "metadata": {
    "height": 217
   },
   "outputs": [],
   "source": [
    "SEO_reviewer = autogen.AssistantAgent(\n",
    "    name=\"SEO Reviewer\",\n",
    "    llm_config=llm_config,\n",
    "    system_message=\"You are an SEO reviewer, known for \"\n",
    "        \"your ability to optimize content for search engines, \"\n",
    "        \"ensuring that it ranks well and attracts organic traffic. \" \n",
    "        \"Make sure your suggestion is concise (within 3 bullet points), \"\n",
    "        \"concrete and to the point. \"\n",
    "        \"Begin the review by stating your role.\",\n",
    ")\n"
   ]
  },
  {
   "cell_type": "code",
   "execution_count": 22,
   "id": "f85acb81-7ab9-4c84-b8bb-6fbae3dce848",
   "metadata": {
    "height": 200
   },
   "outputs": [],
   "source": [
    "legal_reviewer = autogen.AssistantAgent(\n",
    "    name=\"Legal Reviewer\",\n",
    "    llm_config=llm_config,\n",
    "    system_message=\"You are a legal reviewer, known for \"\n",
    "        \"your ability to ensure that content is legally compliant \"\n",
    "        \"and free from any potential legal issues. \"\n",
    "        \"Make sure your suggestion is concise (within 3 bullet points), \"\n",
    "        \"concrete and to the point. \"\n",
    "        \"Begin the review by stating your role.\",\n",
    ")"
   ]
  },
  {
   "cell_type": "code",
   "execution_count": 23,
   "id": "d46a177a-8088-4956-8d2b-3e916b8ca5e9",
   "metadata": {
    "height": 200
   },
   "outputs": [],
   "source": [
    "ethics_reviewer = autogen.AssistantAgent(\n",
    "    name=\"Ethics Reviewer\",\n",
    "    llm_config=llm_config,\n",
    "    system_message=\"You are an ethics reviewer, known for \"\n",
    "        \"your ability to ensure that content is ethically sound \"\n",
    "        \"and free from any potential ethical issues. \" \n",
    "        \"Make sure your suggestion is concise (within 3 bullet points), \"\n",
    "        \"concrete and to the point. \"\n",
    "        \"Begin the review by stating your role. \",\n",
    ")"
   ]
  },
  {
   "cell_type": "code",
   "execution_count": 24,
   "id": "a7b2ad6f-8ba6-436a-9459-14ffbe8a32d3",
   "metadata": {
    "height": 132
   },
   "outputs": [],
   "source": [
    "meta_reviewer = autogen.AssistantAgent(\n",
    "    name=\"Meta Reviewer\",\n",
    "    llm_config=llm_config,\n",
    "    system_message=\"You are a meta reviewer, you aggragate and review \"\n",
    "    \"the work of other reviewers and give a final suggestion on the content.\",\n",
    ")"
   ]
  },
  {
   "cell_type": "markdown",
   "id": "913beca1",
   "metadata": {},
   "source": [
    "## Orchestrate the nested chats to solve the task"
   ]
  },
  {
   "cell_type": "code",
   "execution_count": null,
   "id": "a11a70c7-19ca-4e5a-ad3d-f2b481fb5915",
   "metadata": {
    "height": 557
   },
   "outputs": [],
   "source": [
    "def reflection_message(recipient, messages, sender, config):\n",
    "    return f'''Review the following content. \n",
    "            \\n\\n {recipient.chat_messages_for_summary(sender)[-1]['content']}'''\n",
    "\n",
    "review_chats = [\n",
    "    {\n",
    "     \"recipient\": SEO_reviewer, \n",
    "     \"message\": reflection_message, \n",
    "     \"summary_method\": \"last_msg\",\n",
    "     \"summary_args\": {\"summary_prompt\" : \n",
    "        \"Return review into as JSON object only:\"\n",
    "        \"{'Reviewer': '', 'Review': ''}. Here Reviewer should be your role\",},\n",
    "     \"max_turns\": 1},\n",
    "    {\n",
    "    \"recipient\": legal_reviewer, \"message\": reflection_message, \n",
    "     \"summary_method\": \"last_msg\",\n",
    "     \"summary_args\": {\"summary_prompt\" : \n",
    "        \"Return review into as JSON object only:\"\n",
    "        \"{'Reviewer': '', 'Review': ''}.\",},\n",
    "     \"max_turns\": 1},\n",
    "    {\"recipient\": ethics_reviewer, \"message\": reflection_message, \n",
    "     \"summary_method\": \"last_msg\",\n",
    "     \"summary_args\": {\"summary_prompt\" : \n",
    "        \"Return review into as JSON object only:\"\n",
    "        \"{'reviewer': '', 'review': ''}\",},\n",
    "     \"max_turns\": 1},\n",
    "     {\"recipient\": meta_reviewer, \n",
    "      \"message\": \"Aggregrate feedback from all reviewers and give final suggestions on the writing.\", \n",
    "     \"max_turns\": 1},\n",
    "]\n"
   ]
  },
  {
   "cell_type": "code",
   "execution_count": 26,
   "id": "b3a40b66-5061-460d-ad9d-c0dbcfbba2e9",
   "metadata": {
    "height": 81
   },
   "outputs": [],
   "source": [
    "critic.register_nested_chats(\n",
    "    review_chats,\n",
    "    trigger=writer,\n",
    ")"
   ]
  },
  {
   "cell_type": "markdown",
   "id": "43b8797d",
   "metadata": {},
   "source": [
    "**Note**: You might get a slightly different response than what's shown in the video. Feel free to try different task."
   ]
  },
  {
   "cell_type": "code",
   "execution_count": 27,
   "id": "3b8dcac3-1e72-43b7-9d5a-1be740f6efd5",
   "metadata": {
    "height": 115
   },
   "outputs": [
    {
     "name": "stdout",
     "output_type": "stream",
     "text": [
      "\u001b[33mCritic\u001b[0m (to Writer):\n",
      "\n",
      "\n",
      "       Write a concise but engaging blogpost about\n",
      "       DeepLearning.AI. Make sure the blogpost is\n",
      "       within 100 words.\n",
      "       \n",
      "\n",
      "--------------------------------------------------------------------------------\n",
      "\u001b[33mWriter\u001b[0m (to Critic):\n",
      "\n",
      "**Unlocking AI Potential with DeepLearning.AI**\n",
      "\n",
      "DeepLearning.AI is an online education platform that empowers learners to unlock the power of artificial intelligence (AI). Founded by Andrew Ng, a renowned leader in AI research and teaching, this platform provides in-depth courses, tutorials, and projects on machine learning and deep learning. With its interactive interface, real-world examples, and expert guidance, DeepLearning.AI caters to both beginners and professionals looking to enhance their AI skills. By leveraging its resources, individuals can develop expertise in designing, training, and deploying AI models that drive business growth and innovation.\n",
      "\n",
      "--------------------------------------------------------------------------------\n",
      "\u001b[34m\n",
      "********************************************************************************\u001b[0m\n",
      "\u001b[34mStarting a new chat....\u001b[0m\n",
      "\u001b[34m\n",
      "********************************************************************************\u001b[0m\n",
      "\u001b[33mCritic\u001b[0m (to SEO Reviewer):\n",
      "\n",
      "Review the following content. \n",
      "            \n",
      "\n",
      " **Unlocking AI Potential with DeepLearning.AI**\n",
      "\n",
      "DeepLearning.AI is an online education platform that empowers learners to unlock the power of artificial intelligence (AI). Founded by Andrew Ng, a renowned leader in AI research and teaching, this platform provides in-depth courses, tutorials, and projects on machine learning and deep learning. With its interactive interface, real-world examples, and expert guidance, DeepLearning.AI caters to both beginners and professionals looking to enhance their AI skills. By leveraging its resources, individuals can develop expertise in designing, training, and deploying AI models that drive business growth and innovation.\n",
      "\n",
      "--------------------------------------------------------------------------------\n",
      "\u001b[33mSEO Reviewer\u001b[0m (to Critic):\n",
      "\n",
      "**SEO Review by [Your Name], SEO Specialist**\n",
      "\n",
      "The content appears to be well-structured and informative about the DeepLearning.AI platform. However, here are a few suggestions to improve its visibility and organic traffic:\n",
      "\n",
      "* **Target keyphrase integration**: Incorporate relevant long-tail keywords like \"online machine learning courses\" or \"deep learning tutorials\" strategically throughout the content. This will not only enhance user experience but also help search engines understand the page's context.\n",
      "* **Keyword clustering**: Consider incorporating related terms like \"artificial intelligence education\", \"AI skills development\", and \"data science training\" to create a keyword cluster around AI-related topics. This can improve the content's visibility in searches for broader AI-related queries.\n",
      "* **Meta description and tagline**: Craft a compelling meta description (around 155-160 characters) that summarizes the DeepLearning.AI platform's unique selling points, such as \"Master AI skills with online courses & tutorials from Andrew Ng\"\n",
      "\n",
      "--------------------------------------------------------------------------------\n",
      "\u001b[34m\n",
      "********************************************************************************\u001b[0m\n",
      "\u001b[34mStarting a new chat....\u001b[0m\n",
      "\u001b[34m\n",
      "********************************************************************************\u001b[0m\n",
      "\u001b[33mCritic\u001b[0m (to Legal Reviewer):\n",
      "\n",
      "Review the following content. \n",
      "            \n",
      "\n",
      " **Unlocking AI Potential with DeepLearning.AI**\n",
      "\n",
      "DeepLearning.AI is an online education platform that empowers learners to unlock the power of artificial intelligence (AI). Founded by Andrew Ng, a renowned leader in AI research and teaching, this platform provides in-depth courses, tutorials, and projects on machine learning and deep learning. With its interactive interface, real-world examples, and expert guidance, DeepLearning.AI caters to both beginners and professionals looking to enhance their AI skills. By leveraging its resources, individuals can develop expertise in designing, training, and deploying AI models that drive business growth and innovation.\n",
      "Context: \n",
      "\n",
      "\n",
      "--------------------------------------------------------------------------------\n",
      "\u001b[33mLegal Reviewer\u001b[0m (to Critic):\n",
      "\n",
      "**Legal Reviewer**\n",
      "\n",
      "After reviewing the content, I suggest the following adjustments to ensure legal compliance:\n",
      "\n",
      "• **Trademark use**: The platform name \"DeepLearning.AI\" should be used with proper attribution or registration information. It is assumed that you have permission from Andrew Ng or his company to use this trademark.\n",
      " \n",
      "• **Copyright mention**: A generic statement about copyright ownership (\"All content copyright DeepLearning.AI\") should be added to avoid potential disputes.\n",
      "\n",
      "• **Accessibility and inclusivity statements**: The content should be updated to include statements related to accessibility, non-discrimination, and equal opportunities. This is in line with modern best practices for digital platforms and regulatory requirements (e.g., Section 504/508 for the Americans with Disabilities Act).\n",
      "\n",
      "--------------------------------------------------------------------------------\n",
      "\u001b[34m\n",
      "********************************************************************************\u001b[0m\n",
      "\u001b[34mStarting a new chat....\u001b[0m\n",
      "\u001b[34m\n",
      "********************************************************************************\u001b[0m\n",
      "\u001b[33mCritic\u001b[0m (to Ethics Reviewer):\n",
      "\n",
      "Review the following content. \n",
      "            \n",
      "\n",
      " **Unlocking AI Potential with DeepLearning.AI**\n",
      "\n",
      "DeepLearning.AI is an online education platform that empowers learners to unlock the power of artificial intelligence (AI). Founded by Andrew Ng, a renowned leader in AI research and teaching, this platform provides in-depth courses, tutorials, and projects on machine learning and deep learning. With its interactive interface, real-world examples, and expert guidance, DeepLearning.AI caters to both beginners and professionals looking to enhance their AI skills. By leveraging its resources, individuals can develop expertise in designing, training, and deploying AI models that drive business growth and innovation.\n",
      "Context: \n",
      "\n",
      "\n",
      "\n",
      "--------------------------------------------------------------------------------\n",
      "\u001b[33mEthics Reviewer\u001b[0m (to Critic):\n",
      "\n",
      "**Role:** Ethics Reviewer\n",
      "\n",
      "My review of the content suggests the following corrections to ensure ethical soundness:\n",
      "\n",
      "• **Transparency about founders' credentials**: It would be beneficial to mention any potential conflicts of interest associated with Andrew Ng, the founder of DeepLearning.AI. This could include disclosure of his involvement in other AI-related ventures or affiliations that may impact the platform's integrity.\n",
      "\n",
      "• **Language for appealing universally**: While the content aims to encourage learning, the phrase \"business growth and innovation\" could be perceived as more focused on economic benefits than social impact. Suggest adding a sentence about how DeepLearning.AI empowers learners to make positive contributions to society with their AI skills.\n",
      "\n",
      "• **Data protection statement**: It would be prudent to include a brief note regarding the platform's data collection, usage, and security practices to ensure users understand their personal data rights and responsibilities on the site.\n",
      "\n",
      "--------------------------------------------------------------------------------\n",
      "\u001b[34m\n",
      "********************************************************************************\u001b[0m\n",
      "\u001b[34mStarting a new chat....\u001b[0m\n",
      "\u001b[34m\n",
      "********************************************************************************\u001b[0m\n",
      "\u001b[33mCritic\u001b[0m (to Meta Reviewer):\n",
      "\n",
      "Aggregrate feedback from all reviewers and give final suggestions on the writing.\n",
      "Context: \n",
      "\n",
      "\n",
      "\n",
      "\n",
      "--------------------------------------------------------------------------------\n",
      "\u001b[33mMeta Reviewer\u001b[0m (to Critic):\n",
      "\n",
      "Since there is no specific context provided, I'll assume a general scenario where you're aggregating feedback from multiple reviewers on a written piece (article, essay, research paper, etc.). Let's get started!\n",
      "\n",
      "Please provide the following information:\n",
      "\n",
      "1. The type of content being reviewed (e.g., article, essay, research paper, blog post, etc.)\n",
      "2. The number of reviewers providing feedback\n",
      "3. A brief summary of the content\n",
      "\n",
      "Once I have this info, I'll simulate a meta-reviewing process by aggregating feedback from multiple reviewers and providing final suggestions on improving the writing.\n",
      "\n",
      "Type your response...\n",
      "\n",
      "--------------------------------------------------------------------------------\n",
      "\u001b[33mCritic\u001b[0m (to Writer):\n",
      "\n",
      "Since there is no specific context provided, I'll assume a general scenario where you're aggregating feedback from multiple reviewers on a written piece (article, essay, research paper, etc.). Let's get started!\n",
      "\n",
      "Please provide the following information:\n",
      "\n",
      "1. The type of content being reviewed (e.g., article, essay, research paper, blog post, etc.)\n",
      "2. The number of reviewers providing feedback\n",
      "3. A brief summary of the content\n",
      "\n",
      "Once I have this info, I'll simulate a meta-reviewing process by aggregating feedback from multiple reviewers and providing final suggestions on improving the writing.\n",
      "\n",
      "Type your response...\n",
      "\n",
      "--------------------------------------------------------------------------------\n",
      "\u001b[33mWriter\u001b[0m (to Critic):\n",
      "\n",
      "Here's the information you requested:\n",
      "\n",
      "1. **Blog post**: The written piece is a blog post within 100 words.\n",
      "2. **3 Reviewers**: There are three reviewers who provided feedback on the blog post.\n",
      "3. **Brief Summary of Content**: The blog post discusses DeepLearning.AI, an online education platform that offers courses and tutorials on machine learning and deep learning.\n",
      "\n",
      "I'm ready to receive the simulated meta-reviewing process!\n",
      "\n",
      "--------------------------------------------------------------------------------\n"
     ]
    }
   ],
   "source": [
    "res = critic.initiate_chat(\n",
    "    recipient=writer,\n",
    "    message=task,\n",
    "    max_turns=2,\n",
    "    summary_method=\"last_msg\"\n",
    ")"
   ]
  },
  {
   "cell_type": "markdown",
   "id": "c5c833b0",
   "metadata": {},
   "source": [
    "## Get the summary"
   ]
  },
  {
   "cell_type": "code",
   "execution_count": 15,
   "id": "68ef82ed-f102-4964-b7be-60e2f258a39b",
   "metadata": {
    "height": 30
   },
   "outputs": [
    {
     "name": "stdout",
     "output_type": "stream",
     "text": [
      "Title: Mastering AI: Your Gateway to DeepLearning.AI\n",
      "\n",
      "Embark on a transformative journey in artificial intelligence with DeepLearning.AI, a cutting-edge platform reshaping the industry. Curated for all skill levels, from beginners to experts, DeepLearning.AI offers comprehensive courses empowering you with in-depth knowledge of neural networks, deep learning, and more. Elevate your career and skills with expert guidance and hands-on experience. Join the thriving DeepLearning.AI community today and unlock endless opportunities in the AI landscape.\n",
      "\n",
      "Don't miss out – dive into the world of AI with DeepLearning.AI now!\n",
      "\n",
      "Incorporate the feedback received from reviewers and deliver a refined version of the blogpost on DeepLearning.AI.\n"
     ]
    }
   ],
   "source": [
    "print(res.summary)"
   ]
  }
 ],
 "metadata": {
  "kernelspec": {
   "display_name": "Python 3",
   "language": "python",
   "name": "python3"
  },
  "language_info": {
   "codemirror_mode": {
    "name": "ipython",
    "version": 3
   },
   "file_extension": ".py",
   "mimetype": "text/x-python",
   "name": "python",
   "nbconvert_exporter": "python",
   "pygments_lexer": "ipython3",
   "version": "3.10.0"
  }
 },
 "nbformat": 4,
 "nbformat_minor": 5
}
