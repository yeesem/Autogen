{
 "cells": [
  {
   "cell_type": "markdown",
   "id": "fc3024e2",
   "metadata": {},
   "source": [
    "# Lesson 3: Reflection and Blogpost Writing"
   ]
  },
  {
   "cell_type": "markdown",
   "id": "3b0cc42f",
   "metadata": {},
   "source": [
    "## Setup"
   ]
  },
  {
   "cell_type": "code",
   "execution_count": 1,
   "id": "96d39be0-eaf3-456d-8613-ba21099ed36b",
   "metadata": {
    "height": 30
   },
   "outputs": [],
   "source": [
    "llm_config = {\"model\": \"gpt-3.5-turbo\"}"
   ]
  },
  {
   "cell_type": "markdown",
   "id": "0969e6bb",
   "metadata": {},
   "source": [
    "## The task!"
   ]
  },
  {
   "cell_type": "code",
   "execution_count": null,
   "id": "e8074032-3690-4de9-ad08-ea8323cb441b",
   "metadata": {
    "height": 132
   },
   "outputs": [],
   "source": [
    "task = '''\n",
    "       Write a concise but engaging blogpost about\n",
    "       DeepLearning.AI. Make sure the blogpost is\n",
    "       within 100 words.\n",
    "       '''\n"
   ]
  },
  {
   "cell_type": "markdown",
   "id": "1987f023",
   "metadata": {},
   "source": [
    "## Create a writer agent"
   ]
  },
  {
   "cell_type": "code",
   "execution_count": 3,
   "id": "fe0f0a47-a9fe-43a0-b7b1-79922e4c4ac8",
   "metadata": {
    "height": 200
   },
   "outputs": [],
   "source": [
    "import autogen\n",
    "\n",
    "writer = autogen.AssistantAgent(\n",
    "    name=\"Writer\",\n",
    "    system_message=\"You are a writer. You write engaging and concise \" \n",
    "        \"blogpost (with title) on given topics. You must polish your \"\n",
    "        \"writing based on the feedback you receive and give a refined \"\n",
    "        \"version. Only return your final work without additional comments.\",\n",
    "    llm_config=llm_config,\n",
    ")"
   ]
  },
  {
   "cell_type": "code",
   "execution_count": 4,
   "id": "7c7b4d8d-40f7-4a05-8958-25d20054de3a",
   "metadata": {
    "height": 47
   },
   "outputs": [],
   "source": [
    "reply = writer.generate_reply(messages=[{\"content\": task, \"role\": \"user\"}])"
   ]
  },
  {
   "cell_type": "code",
   "execution_count": 5,
   "id": "c501c97d-e338-4f36-a384-6ec45983cf77",
   "metadata": {
    "height": 30
   },
   "outputs": [
    {
     "name": "stdout",
     "output_type": "stream",
     "text": [
      "Title: Unveiling the Power of DeepLearning.AI\n",
      "\n",
      "Delve into the world of artificial intelligence with DeepLearning.AI, a leading platform revolutionizing the field. From introductory courses to specialized programs, DeepLearning.AI offers a wide range of resources to sharpen your skills and propel your career forward. With expert-led instruction and hands-on projects, you'll gain valuable insights into deep learning, neural networks, and much more. Whether you're a novice or an experienced professional, there's something for everyone to learn and explore. Join the DeepLearning.AI community today and unlock the doors to endless possibilities in the realm of AI.\n"
     ]
    }
   ],
   "source": [
    "print(reply)"
   ]
  },
  {
   "cell_type": "markdown",
   "id": "49658114",
   "metadata": {},
   "source": [
    "## Adding reflection \n",
    "\n",
    "Create a critic agent to reflect on the work of the writer agent."
   ]
  },
  {
   "cell_type": "code",
   "execution_count": 6,
   "id": "c7fcd1c7-51ec-4915-8e97-bac03565c4c7",
   "metadata": {
    "height": 166
   },
   "outputs": [],
   "source": [
    "critic = autogen.AssistantAgent(\n",
    "    name=\"Critic\",\n",
    "    is_termination_msg=lambda x: x.get(\"content\", \"\").find(\"TERMINATE\") >= 0,\n",
    "    llm_config=llm_config,\n",
    "    system_message=\"You are a critic. You review the work of \"\n",
    "                \"the writer and provide constructive \"\n",
    "                \"feedback to help improve the quality of the content.\",\n",
    ")"
   ]
  },
  {
   "cell_type": "code",
   "execution_count": 7,
   "id": "899d5fdb-6081-470b-b287-8cf8b8142d0d",
   "metadata": {
    "height": 115
   },
   "outputs": [
    {
     "name": "stdout",
     "output_type": "stream",
     "text": [
      "\u001b[33mCritic\u001b[0m (to Writer):\n",
      "\n",
      "\n",
      "        Write a concise but engaging blogpost about\n",
      "       DeepLearning.AI. Make sure the blogpost is\n",
      "       within 100 words.\n",
      "       \n",
      "\n",
      "--------------------------------------------------------------------------------\n",
      "\u001b[33mWriter\u001b[0m (to Critic):\n",
      "\n",
      "Title: Unveiling the Power of DeepLearning.AI\n",
      "\n",
      "Delve into the world of artificial intelligence with DeepLearning.AI, a leading platform revolutionizing the field. From introductory courses to specialized programs, DeepLearning.AI offers a wide range of resources to sharpen your skills and propel your career forward. With expert-led instruction and hands-on projects, you'll gain valuable insights into deep learning, neural networks, and much more. Whether you're a novice or an experienced professional, there's something for everyone to learn and explore. Join the DeepLearning.AI community today and unlock the doors to endless possibilities in the realm of AI.\n",
      "\n",
      "--------------------------------------------------------------------------------\n",
      "\u001b[33mCritic\u001b[0m (to Writer):\n",
      "\n",
      "Your blog post is concise and engaging, effectively highlighting the key features and benefits of DeepLearning.AI. You successfully communicate the platform's value proposition and appeal to a broad audience interested in artificial intelligence. However, you could enhance the blog post by providing specific examples of the courses or projects available on DeepLearning.AI to give readers a better understanding of what to expect. Additionally, consider incorporating some customer testimonials or success stories to add credibility and showcase the real-world impact of the platform. Overall, great work!\n",
      "\n",
      "--------------------------------------------------------------------------------\n",
      "\u001b[33mWriter\u001b[0m (to Critic):\n",
      "\n",
      "Title: Unveiling the Power of DeepLearning.AI\n",
      "\n",
      "Embark on an exciting journey into artificial intelligence with DeepLearning.AI. Explore cutting-edge courses covering deep learning, neural networks, and more. From beginner-friendly introductions to advanced specializations, the platform caters to all skill levels. Dive into hands-on projects to apply your knowledge in real-world scenarios. Join a vibrant community of learners and experts to gain insights, collaborate, and grow professionally. With success stories and testimonials highlighting the platform's impact, DeepLearning.AI is the gateway to unlocking your potential in the dynamic field of AI. Elevate your skills and career - start your DeepLearning.AI adventure today.\n",
      "\n",
      "--------------------------------------------------------------------------------\n"
     ]
    }
   ],
   "source": [
    "res = critic.initiate_chat(\n",
    "    recipient=writer,\n",
    "    message=task,\n",
    "    max_turns=2,\n",
    "    summary_method=\"last_msg\"\n",
    ")"
   ]
  },
  {
   "cell_type": "markdown",
   "id": "e7b76449",
   "metadata": {},
   "source": [
    "## Nested chat"
   ]
  },
  {
   "cell_type": "code",
   "execution_count": 8,
   "id": "401ecf92-63e9-40ff-aeed-1c404352e4ab",
   "metadata": {
    "height": 217
   },
   "outputs": [],
   "source": [
    "SEO_reviewer = autogen.AssistantAgent(\n",
    "    name=\"SEO Reviewer\",\n",
    "    llm_config=llm_config,\n",
    "    system_message=\"You are an SEO reviewer, known for \"\n",
    "        \"your ability to optimize content for search engines, \"\n",
    "        \"ensuring that it ranks well and attracts organic traffic. \" \n",
    "        \"Make sure your suggestion is concise (within 3 bullet points), \"\n",
    "        \"concrete and to the point. \"\n",
    "        \"Begin the review by stating your role.\",\n",
    ")\n"
   ]
  },
  {
   "cell_type": "code",
   "execution_count": 9,
   "id": "f85acb81-7ab9-4c84-b8bb-6fbae3dce848",
   "metadata": {
    "height": 200
   },
   "outputs": [],
   "source": [
    "legal_reviewer = autogen.AssistantAgent(\n",
    "    name=\"Legal Reviewer\",\n",
    "    llm_config=llm_config,\n",
    "    system_message=\"You are a legal reviewer, known for \"\n",
    "        \"your ability to ensure that content is legally compliant \"\n",
    "        \"and free from any potential legal issues. \"\n",
    "        \"Make sure your suggestion is concise (within 3 bullet points), \"\n",
    "        \"concrete and to the point. \"\n",
    "        \"Begin the review by stating your role.\",\n",
    ")"
   ]
  },
  {
   "cell_type": "code",
   "execution_count": 10,
   "id": "d46a177a-8088-4956-8d2b-3e916b8ca5e9",
   "metadata": {
    "height": 200
   },
   "outputs": [],
   "source": [
    "ethics_reviewer = autogen.AssistantAgent(\n",
    "    name=\"Ethics Reviewer\",\n",
    "    llm_config=llm_config,\n",
    "    system_message=\"You are an ethics reviewer, known for \"\n",
    "        \"your ability to ensure that content is ethically sound \"\n",
    "        \"and free from any potential ethical issues. \" \n",
    "        \"Make sure your suggestion is concise (within 3 bullet points), \"\n",
    "        \"concrete and to the point. \"\n",
    "        \"Begin the review by stating your role. \",\n",
    ")"
   ]
  },
  {
   "cell_type": "code",
   "execution_count": 11,
   "id": "a7b2ad6f-8ba6-436a-9459-14ffbe8a32d3",
   "metadata": {
    "height": 132
   },
   "outputs": [],
   "source": [
    "meta_reviewer = autogen.AssistantAgent(\n",
    "    name=\"Meta Reviewer\",\n",
    "    llm_config=llm_config,\n",
    "    system_message=\"You are a meta reviewer, you aggragate and review \"\n",
    "    \"the work of other reviewers and give a final suggestion on the content.\",\n",
    ")"
   ]
  },
  {
   "cell_type": "markdown",
   "id": "913beca1",
   "metadata": {},
   "source": [
    "## Orchestrate the nested chats to solve the task"
   ]
  },
  {
   "cell_type": "code",
   "execution_count": 12,
   "id": "a11a70c7-19ca-4e5a-ad3d-f2b481fb5915",
   "metadata": {
    "height": 557
   },
   "outputs": [],
   "source": [
    "def reflection_message(recipient, messages, sender, config):\n",
    "    return f'''Review the following content. \n",
    "            \\n\\n {recipient.chat_messages_for_summary(sender)[-1]['content']}'''\n",
    "\n",
    "review_chats = [\n",
    "    {\n",
    "     \"recipient\": SEO_reviewer, \n",
    "     \"message\": reflection_message, \n",
    "     \"summary_method\": \"reflection_with_llm\",\n",
    "     \"summary_args\": {\"summary_prompt\" : \n",
    "        \"Return review into as JSON object only:\"\n",
    "        \"{'Reviewer': '', 'Review': ''}. Here Reviewer should be your role\",},\n",
    "     \"max_turns\": 1},\n",
    "    {\n",
    "    \"recipient\": legal_reviewer, \"message\": reflection_message, \n",
    "     \"summary_method\": \"reflection_with_llm\",\n",
    "     \"summary_args\": {\"summary_prompt\" : \n",
    "        \"Return review into as JSON object only:\"\n",
    "        \"{'Reviewer': '', 'Review': ''}.\",},\n",
    "     \"max_turns\": 1},\n",
    "    {\"recipient\": ethics_reviewer, \"message\": reflection_message, \n",
    "     \"summary_method\": \"reflection_with_llm\",\n",
    "     \"summary_args\": {\"summary_prompt\" : \n",
    "        \"Return review into as JSON object only:\"\n",
    "        \"{'reviewer': '', 'review': ''}\",},\n",
    "     \"max_turns\": 1},\n",
    "     {\"recipient\": meta_reviewer, \n",
    "      \"message\": \"Aggregrate feedback from all reviewers and give final suggestions on the writing.\", \n",
    "     \"max_turns\": 1},\n",
    "]\n"
   ]
  },
  {
   "cell_type": "code",
   "execution_count": 13,
   "id": "b3a40b66-5061-460d-ad9d-c0dbcfbba2e9",
   "metadata": {
    "height": 81
   },
   "outputs": [],
   "source": [
    "critic.register_nested_chats(\n",
    "    review_chats,\n",
    "    trigger=writer,\n",
    ")"
   ]
  },
  {
   "cell_type": "markdown",
   "id": "43b8797d",
   "metadata": {},
   "source": [
    "**Note**: You might get a slightly different response than what's shown in the video. Feel free to try different task."
   ]
  },
  {
   "cell_type": "code",
   "execution_count": 14,
   "id": "3b8dcac3-1e72-43b7-9d5a-1be740f6efd5",
   "metadata": {
    "height": 115
   },
   "outputs": [
    {
     "name": "stdout",
     "output_type": "stream",
     "text": [
      "\u001b[33mCritic\u001b[0m (to Writer):\n",
      "\n",
      "\n",
      "        Write a concise but engaging blogpost about\n",
      "       DeepLearning.AI. Make sure the blogpost is\n",
      "       within 100 words.\n",
      "       \n",
      "\n",
      "--------------------------------------------------------------------------------\n",
      "\u001b[33mWriter\u001b[0m (to Critic):\n",
      "\n",
      "Title: Unveiling the Power of DeepLearning.AI\n",
      "\n",
      "Delve into the world of artificial intelligence with DeepLearning.AI, a leading platform revolutionizing the field. From introductory courses to specialized programs, DeepLearning.AI offers a wide range of resources to sharpen your skills and propel your career forward. With expert-led instruction and hands-on projects, you'll gain valuable insights into deep learning, neural networks, and much more. Whether you're a novice or an experienced professional, there's something for everyone to learn and explore. Join the DeepLearning.AI community today and unlock the doors to endless possibilities in the realm of AI.\n",
      "\n",
      "--------------------------------------------------------------------------------\n",
      "\u001b[34m\n",
      "********************************************************************************\u001b[0m\n",
      "\u001b[34mStarting a new chat....\u001b[0m\n",
      "\u001b[34m\n",
      "********************************************************************************\u001b[0m\n",
      "\u001b[33mCritic\u001b[0m (to SEO Reviewer):\n",
      "\n",
      "Review the following content. \n",
      "            \n",
      "\n",
      " Title: Unveiling the Power of DeepLearning.AI\n",
      "\n",
      "Delve into the world of artificial intelligence with DeepLearning.AI, a leading platform revolutionizing the field. From introductory courses to specialized programs, DeepLearning.AI offers a wide range of resources to sharpen your skills and propel your career forward. With expert-led instruction and hands-on projects, you'll gain valuable insights into deep learning, neural networks, and much more. Whether you're a novice or an experienced professional, there's something for everyone to learn and explore. Join the DeepLearning.AI community today and unlock the doors to endless possibilities in the realm of AI.\n",
      "\n",
      "--------------------------------------------------------------------------------\n",
      "\u001b[33mSEO Reviewer\u001b[0m (to Critic):\n",
      "\n",
      "As an SEO reviewer: \n",
      "\n",
      "1. Optimize the title by including a keyword or key phrase related to DeepLearning.AI to improve search engine visibility. For example, \"Explore DeepLearning.AI: Transforming AI Education.\"\n",
      "  \n",
      "2. Incorporate relevant keywords throughout the content such as 'artificial intelligence courses', 'deep learning programs', 'neural networks', to enhance search engine ranking for related queries.\n",
      "\n",
      "3. Include a clear call-to-action encouraging users to join DeepLearning.AI community with a specific link or button for better user engagement and potential conversion.\n",
      "\n",
      "--------------------------------------------------------------------------------\n",
      "\u001b[34m\n",
      "********************************************************************************\u001b[0m\n",
      "\u001b[34mStarting a new chat....\u001b[0m\n",
      "\u001b[34m\n",
      "********************************************************************************\u001b[0m\n",
      "\u001b[33mCritic\u001b[0m (to Legal Reviewer):\n",
      "\n",
      "Review the following content. \n",
      "            \n",
      "\n",
      " Title: Unveiling the Power of DeepLearning.AI\n",
      "\n",
      "Delve into the world of artificial intelligence with DeepLearning.AI, a leading platform revolutionizing the field. From introductory courses to specialized programs, DeepLearning.AI offers a wide range of resources to sharpen your skills and propel your career forward. With expert-led instruction and hands-on projects, you'll gain valuable insights into deep learning, neural networks, and much more. Whether you're a novice or an experienced professional, there's something for everyone to learn and explore. Join the DeepLearning.AI community today and unlock the doors to endless possibilities in the realm of AI.\n",
      "Context: \n",
      "{'Reviewer': 'SEO Specialist', 'Review': \"1. Optimize the title by including a keyword or key phrase related to DeepLearning.AI to improve search engine visibility. For example, 'Explore DeepLearning.AI: Transforming AI Education.'  2. Incorporate relevant keywords throughout the content such as 'artificial intelligence courses', 'deep learning programs', 'neural networks', to enhance search engine ranking for related queries. 3. Include a clear call-to-action encouraging users to join DeepLearning.AI community with a specific link or button for better user engagement and potential conversion.\"}\n",
      "\n",
      "--------------------------------------------------------------------------------\n",
      "\u001b[33mLegal Reviewer\u001b[0m (to Critic):\n",
      "\n",
      "As a Legal Reviewer:\n",
      "\n",
      "- Ensure the content does not make any unsubstantiated claims about the effectiveness or outcomes of the DeepLearning.AI platform.\n",
      "- Verify that any statements regarding the expertise of instructors or the benefits of the courses are factually accurate and not misleading.\n",
      "- Check for any potential trademark infringements by ensuring proper use of DeepLearning.AI's branding and intellectual property.\n",
      "\n",
      "--------------------------------------------------------------------------------\n",
      "\u001b[34m\n",
      "********************************************************************************\u001b[0m\n",
      "\u001b[34mStarting a new chat....\u001b[0m\n",
      "\u001b[34m\n",
      "********************************************************************************\u001b[0m\n",
      "\u001b[33mCritic\u001b[0m (to Ethics Reviewer):\n",
      "\n",
      "Review the following content. \n",
      "            \n",
      "\n",
      " Title: Unveiling the Power of DeepLearning.AI\n",
      "\n",
      "Delve into the world of artificial intelligence with DeepLearning.AI, a leading platform revolutionizing the field. From introductory courses to specialized programs, DeepLearning.AI offers a wide range of resources to sharpen your skills and propel your career forward. With expert-led instruction and hands-on projects, you'll gain valuable insights into deep learning, neural networks, and much more. Whether you're a novice or an experienced professional, there's something for everyone to learn and explore. Join the DeepLearning.AI community today and unlock the doors to endless possibilities in the realm of AI.\n",
      "Context: \n",
      "{'Reviewer': 'SEO Specialist', 'Review': \"1. Optimize the title by including a keyword or key phrase related to DeepLearning.AI to improve search engine visibility. For example, 'Explore DeepLearning.AI: Transforming AI Education.'  2. Incorporate relevant keywords throughout the content such as 'artificial intelligence courses', 'deep learning programs', 'neural networks', to enhance search engine ranking for related queries. 3. Include a clear call-to-action encouraging users to join DeepLearning.AI community with a specific link or button for better user engagement and potential conversion.\"}\n",
      "{'Reviewer': 'SEO Specialist', 'Review': \"1. Optimize the title by including a keyword or key phrase related to DeepLearning.AI to improve search engine visibility. For example, 'Explore DeepLearning.AI: Transforming AI Education.'  2. Incorporate relevant keywords throughout the content such as 'artificial intelligence courses', 'deep learning programs', 'neural networks', to enhance search engine ranking for related queries. 3. Include a clear call-to-action encouraging users to join DeepLearning.AI community with a specific link or button for better user engagement and potential conversion.\"}\n",
      "\n",
      "--------------------------------------------------------------------------------\n",
      "\u001b[33mEthics Reviewer\u001b[0m (to Critic):\n",
      "\n",
      "As an ethics reviewer:\n",
      "\n",
      "- Ensure that the information provided about the DeepLearning.AI platform is accurate and not misleading to potential users.\n",
      "- Disclose any affiliations or sponsorships with DeepLearning.AI to maintain transparency and trust with the audience.\n",
      "- Avoid making exaggerated claims about the benefits or outcomes of using DeepLearning.AI to set realistic expectations for users.\n",
      "\n",
      "--------------------------------------------------------------------------------\n",
      "\u001b[34m\n",
      "********************************************************************************\u001b[0m\n",
      "\u001b[34mStarting a new chat....\u001b[0m\n",
      "\u001b[34m\n",
      "********************************************************************************\u001b[0m\n",
      "\u001b[33mCritic\u001b[0m (to Meta Reviewer):\n",
      "\n",
      "Aggregrate feedback from all reviewers and give final suggestions on the writing.\n",
      "Context: \n",
      "{'Reviewer': 'SEO Specialist', 'Review': \"1. Optimize the title by including a keyword or key phrase related to DeepLearning.AI to improve search engine visibility. For example, 'Explore DeepLearning.AI: Transforming AI Education.'  2. Incorporate relevant keywords throughout the content such as 'artificial intelligence courses', 'deep learning programs', 'neural networks', to enhance search engine ranking for related queries. 3. Include a clear call-to-action encouraging users to join DeepLearning.AI community with a specific link or button for better user engagement and potential conversion.\"}\n",
      "{'Reviewer': 'SEO Specialist', 'Review': \"1. Optimize the title by including a keyword or key phrase related to DeepLearning.AI to improve search engine visibility. For example, 'Explore DeepLearning.AI: Transforming AI Education.'  2. Incorporate relevant keywords throughout the content such as 'artificial intelligence courses', 'deep learning programs', 'neural networks', to enhance search engine ranking for related queries. 3. Include a clear call-to-action encouraging users to join DeepLearning.AI community with a specific link or button for better user engagement and potential conversion.\"}\n",
      "{'reviewer': 'SEO Specialist', 'review': \"1. Optimize the title by including a keyword or key phrase related to DeepLearning.AI to improve search engine visibility. For example, 'Explore DeepLearning.AI: Transforming AI Education.'  2. Incorporate relevant keywords throughout the content such as 'artificial intelligence courses', 'deep learning programs', 'neural networks', to enhance search engine ranking for related queries. 3. Include a clear call-to-action encouraging users to join DeepLearning.AI community with a specific link or button for better user engagement and potential conversion.\"}\n"
     ]
    },
    {
     "name": "stdout",
     "output_type": "stream",
     "text": [
      "\n",
      "--------------------------------------------------------------------------------\n",
      "\u001b[33mMeta Reviewer\u001b[0m (to Critic):\n",
      "\n",
      "After aggregating the feedback from all reviewers, it is clear that the main focus is on optimizing the content for search engine visibility and user engagement. The consistent suggestions include optimizing the title with relevant keywords related to DeepLearning.AI, incorporating related keywords throughout the content, and having a clear call-to-action to encourage users to join the DeepLearning.AI community.\n",
      "\n",
      "Overall, the reviewers are emphasizing the importance of search engine optimization (SEO) techniques to increase the visibility of the content and drive user engagement. It seems like the main objective is to attract users interested in artificial intelligence courses, deep learning programs, and neural networks to the DeepLearning.AI platform.\n",
      "\n",
      "Final Suggestion:\n",
      "1. **Optimize Title**: Ensure that the title includes a keyword or key phrase related to DeepLearning.AI for better search engine visibility and click-through rates.\n",
      "   \n",
      "2. **Keyword Incorporation**: Integrate relevant keywords naturally throughout the content to improve search engine ranking for related queries and attract the target audience interested in AI education.\n",
      "\n",
      "3. **Call-to-Action**: Implement a clear call-to-action prompting users to join the DeepLearning.AI community with a specific link or button, enhancing user engagement and potential conversion.\n",
      "\n",
      "By following these suggestions, the content can better reach its target audience, improve search engine visibility, and increase user engagement with the DeepLearning.AI platform.\n",
      "\n",
      "--------------------------------------------------------------------------------\n",
      "\u001b[33mCritic\u001b[0m (to Writer):\n",
      "\n",
      "After aggregating the feedback from all reviewers, it is clear that the main focus is on optimizing the content for search engine visibility and user engagement. The consistent suggestions include optimizing the title with relevant keywords related to DeepLearning.AI, incorporating related keywords throughout the content, and having a clear call-to-action to encourage users to join the DeepLearning.AI community.\n",
      "\n",
      "Overall, the reviewers are emphasizing the importance of search engine optimization (SEO) techniques to increase the visibility of the content and drive user engagement. It seems like the main objective is to attract users interested in artificial intelligence courses, deep learning programs, and neural networks to the DeepLearning.AI platform.\n",
      "\n",
      "Final Suggestion:\n",
      "1. **Optimize Title**: Ensure that the title includes a keyword or key phrase related to DeepLearning.AI for better search engine visibility and click-through rates.\n",
      "   \n",
      "2. **Keyword Incorporation**: Integrate relevant keywords naturally throughout the content to improve search engine ranking for related queries and attract the target audience interested in AI education.\n",
      "\n",
      "3. **Call-to-Action**: Implement a clear call-to-action prompting users to join the DeepLearning.AI community with a specific link or button, enhancing user engagement and potential conversion.\n",
      "\n",
      "By following these suggestions, the content can better reach its target audience, improve search engine visibility, and increase user engagement with the DeepLearning.AI platform.\n",
      "\n",
      "--------------------------------------------------------------------------------\n",
      "\u001b[33mWriter\u001b[0m (to Critic):\n",
      "\n",
      "Title: Mastering AI: Your Gateway to DeepLearning.AI\n",
      "\n",
      "Embark on a transformative journey in artificial intelligence with DeepLearning.AI, a cutting-edge platform reshaping the industry. Curated for all skill levels, from beginners to experts, DeepLearning.AI offers comprehensive courses empowering you with in-depth knowledge of neural networks, deep learning, and more. Elevate your career and skills with expert guidance and hands-on experience. Join the thriving DeepLearning.AI community today and unlock endless opportunities in the AI landscape.\n",
      "\n",
      "Don't miss out – dive into the world of AI with DeepLearning.AI now!\n",
      "\n",
      "Incorporate the feedback received from reviewers and deliver a refined version of the blogpost on DeepLearning.AI.\n",
      "\n",
      "--------------------------------------------------------------------------------\n"
     ]
    }
   ],
   "source": [
    "res = critic.initiate_chat(\n",
    "    recipient=writer,\n",
    "    message=task,\n",
    "    max_turns=2,\n",
    "    summary_method=\"last_msg\"\n",
    ")"
   ]
  },
  {
   "cell_type": "markdown",
   "id": "c5c833b0",
   "metadata": {},
   "source": [
    "## Get the summary"
   ]
  },
  {
   "cell_type": "code",
   "execution_count": 15,
   "id": "68ef82ed-f102-4964-b7be-60e2f258a39b",
   "metadata": {
    "height": 30
   },
   "outputs": [
    {
     "name": "stdout",
     "output_type": "stream",
     "text": [
      "Title: Mastering AI: Your Gateway to DeepLearning.AI\n",
      "\n",
      "Embark on a transformative journey in artificial intelligence with DeepLearning.AI, a cutting-edge platform reshaping the industry. Curated for all skill levels, from beginners to experts, DeepLearning.AI offers comprehensive courses empowering you with in-depth knowledge of neural networks, deep learning, and more. Elevate your career and skills with expert guidance and hands-on experience. Join the thriving DeepLearning.AI community today and unlock endless opportunities in the AI landscape.\n",
      "\n",
      "Don't miss out – dive into the world of AI with DeepLearning.AI now!\n",
      "\n",
      "Incorporate the feedback received from reviewers and deliver a refined version of the blogpost on DeepLearning.AI.\n"
     ]
    }
   ],
   "source": [
    "print(res.summary)"
   ]
  }
 ],
 "metadata": {
  "kernelspec": {
   "display_name": "Python 3 (ipykernel)",
   "language": "python",
   "name": "python3"
  },
  "language_info": {
   "codemirror_mode": {
    "name": "ipython",
    "version": 3
   },
   "file_extension": ".py",
   "mimetype": "text/x-python",
   "name": "python",
   "nbconvert_exporter": "python",
   "pygments_lexer": "ipython3",
   "version": "3.11.9"
  }
 },
 "nbformat": 4,
 "nbformat_minor": 5
}
