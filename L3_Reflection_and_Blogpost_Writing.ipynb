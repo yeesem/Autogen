{
 "cells": [
  {
   "cell_type": "markdown",
   "id": "fc3024e2",
   "metadata": {},
   "source": [
    "# Lesson 3: Reflection and Blogpost Writing"
   ]
  },
  {
   "cell_type": "markdown",
   "id": "3b0cc42f",
   "metadata": {},
   "source": [
    "## Setup"
   ]
  },
  {
   "cell_type": "code",
   "execution_count": 13,
   "id": "96d39be0-eaf3-456d-8613-ba21099ed36b",
   "metadata": {
    "height": 30
   },
   "outputs": [],
   "source": [
    "# llm_config = {\"model\": \"gpt-3.5-turbo\"}\n",
    "\n",
    "llm_config = {\n",
    "    \"config_list\": [\n",
    "        {\n",
    "            \"model\": \"llama3.1\",  # \n",
    "            \"api_key\": \"ollama\",  # \n",
    "            \"base_url\": \"http://localhost:11434/v1\",  \n",
    "        }\n",
    "    ],\n",
    "    \"cache_seed\": None,  # Turns off caching, useful for testing different models\n",
    "}"
   ]
  },
  {
   "cell_type": "markdown",
   "id": "0969e6bb",
   "metadata": {},
   "source": [
    "## The task!"
   ]
  },
  {
   "cell_type": "code",
   "execution_count": 14,
   "id": "e8074032-3690-4de9-ad08-ea8323cb441b",
   "metadata": {
    "height": 132
   },
   "outputs": [],
   "source": [
    "task = '''\n",
    "       Write a concise but engaging blogpost about\n",
    "       DeepLearning.AI. Make sure the blogpost is\n",
    "       within 100 words.\n",
    "       '''\n"
   ]
  },
  {
   "cell_type": "markdown",
   "id": "1987f023",
   "metadata": {},
   "source": [
    "## Create a writer agent"
   ]
  },
  {
   "cell_type": "code",
   "execution_count": 15,
   "id": "fe0f0a47-a9fe-43a0-b7b1-79922e4c4ac8",
   "metadata": {
    "height": 200
   },
   "outputs": [],
   "source": [
    "import autogen\n",
    "\n",
    "writer = autogen.AssistantAgent(\n",
    "    name=\"Writer\",\n",
    "    system_message=\"You are a writer. You write engaging and concise \" \n",
    "        \"blogpost (with title) on given topics. You must polish your \"\n",
    "        \"writing based on the feedback you receive and give a refined \"\n",
    "        \"version. Only return your final work without additional comments.\",\n",
    "    llm_config=llm_config,\n",
    ")"
   ]
  },
  {
   "cell_type": "code",
   "execution_count": 16,
   "id": "7c7b4d8d-40f7-4a05-8958-25d20054de3a",
   "metadata": {
    "height": 47
   },
   "outputs": [],
   "source": [
    "reply = writer.generate_reply(messages=[{\"content\": task, \"role\": \"user\"}])"
   ]
  },
  {
   "cell_type": "code",
   "execution_count": 17,
   "id": "c501c97d-e338-4f36-a384-6ec45983cf77",
   "metadata": {
    "height": 30
   },
   "outputs": [
    {
     "name": "stdout",
     "output_type": "stream",
     "text": [
      "('**Unlocking AI Potential with DeepLearning.AI**\\n'\n",
      " '\\n'\n",
      " 'DeepLearning.AI is an online platform that empowers beginners and experts '\n",
      " 'alike to delve into the world of Artificial Intelligence (AI) and Machine '\n",
      " \"Learning (ML). Founded by Google's Andrew Ng, this initiative aims to bridge \"\n",
      " 'the gap between industry professionals and those new to the field. Through '\n",
      " 'lectures, tutorials, and hands-on projects, users can acquire in-demand '\n",
      " 'skills in deep learning, neural networks, and more. By harnessing '\n",
      " \"DeepLearning.AI's resources, learners can transform their careers, stay \"\n",
      " \"ahead of market demands, or simply cultivate a deeper understanding of AI's \"\n",
      " 'transformative power.')\n"
     ]
    }
   ],
   "source": [
    "import pprint\n",
    "pprint.pprint(reply)"
   ]
  },
  {
   "cell_type": "markdown",
   "id": "49658114",
   "metadata": {},
   "source": [
    "## Adding reflection \n",
    "\n",
    "Create a critic agent to reflect on the work of the writer agent."
   ]
  },
  {
   "cell_type": "code",
   "execution_count": 18,
   "id": "c7fcd1c7-51ec-4915-8e97-bac03565c4c7",
   "metadata": {
    "height": 166
   },
   "outputs": [],
   "source": [
    "critic = autogen.AssistantAgent(\n",
    "    name=\"Critic\",\n",
    "    is_termination_msg=lambda x: x.get(\"content\", \"\").find(\"TERMINATE\") >= 0,\n",
    "    llm_config=llm_config,\n",
    "    system_message=\"You are a critic. You review the work of \"\n",
    "                \"the writer and provide constructive \"\n",
    "                \"feedback to help improve the quality of the content.\",\n",
    ")"
   ]
  },
  {
   "cell_type": "code",
   "execution_count": 19,
   "id": "899d5fdb-6081-470b-b287-8cf8b8142d0d",
   "metadata": {
    "height": 115
   },
   "outputs": [
    {
     "name": "stdout",
     "output_type": "stream",
     "text": [
      "\u001b[33mCritic\u001b[0m (to Writer):\n",
      "\n",
      "\n",
      "       Write a concise but engaging blogpost about\n",
      "       DeepLearning.AI. Make sure the blogpost is\n",
      "       within 100 words.\n",
      "       \n",
      "\n",
      "--------------------------------------------------------------------------------\n",
      "\u001b[33mWriter\u001b[0m (to Critic):\n",
      "\n",
      "**Unlocking the Power of AI with DeepLearning.AI**\n",
      "\n",
      "DeepLearning.AI, a platform by Coursera and Andrew Ng, offers an extensive curriculum in machine learning and deep learning. With interactive lectures and hands-on exercises, learners can gain practical expertise in AI. The course's four-quadrant framework helps students understand the various applications and challenges of AI. Standouts include the Machine Learning Crash Course and Deep Learning Specialization. What sets this platform apart is its focus on real-world implications and the community-driven environment where learners collaborate, share insights, and get industry feedback. Upgrading your career with cutting-edge AI skills has never been easier!\n",
      "\n",
      "--------------------------------------------------------------------------------\n",
      "\u001b[33mCritic\u001b[0m (to Writer):\n",
      "\n",
      "**Review**\n",
      "\n",
      "Overall, I'd give this blog post 4 out of 5 stars. Here's why:\n",
      "\n",
      "* **Engaging Introduction**: The title \"Unlocking the Power of AI\" is catchy and attention-grabbing, setting a great tone for the rest of the content.\n",
      "* **Clear Structure**: The blog post follows a logical structure: introducing the platform, highlighting its unique features, and showcasing its benefits. It's easy to follow and understand.\n",
      "* **Key Strengths Emphasized**: I appreciate that you emphasize the interactive lectures, hands-on exercises, and community-driven environment as key strengths of DeepLearning.AI.\n",
      "\n",
      "However, here are some areas for improvement:\n",
      "\n",
      "* **More Depth Required**: While the post provides a good overview, it's quite brief. Consider expanding on specific topics or including more concrete examples to make the content more substantial.\n",
      "* **Visuals Would Enhance**: Adding images or figures related to machine learning and deep learning would break up the text and make the post more visually appealing.\n",
      "* **Minor Grammar Corrections**:\n",
      "\t+ \"Standouts\" might be replaced with a more formal phrase, like \"highlights\".\n",
      "\t+ The use of \"Upgrading your career...\" feels a bit sales-y; rephrase it to something like \"Achieving this goal has never been easier\".\n",
      "\n",
      "**Recommendations**\n",
      "\n",
      "To elevate the blog post to 5-star material:\n",
      "\n",
      "1. Conduct further research and add concrete examples or anecdotes to illustrate the points you're making.\n",
      "2. Incorporate relevant images, figures, or tables to support your arguments.\n",
      "3. Refine the writing to address minor grammatical errors and improve sentence clarity.\n",
      "\n",
      "Overall, this is a solid start on showcasing DeepLearning.AI's strengths! By implementing a few suggestions, it can become an even more comprehensive and engaging review for your audience.\n",
      "\n",
      "--------------------------------------------------------------------------------\n",
      "\u001b[33mWriter\u001b[0m (to Critic):\n",
      "\n",
      "**Unlocking the Power of AI with DeepLearning.AI**\n",
      "\n",
      "DeepLearning.AI, a platform by Coursera and Andrew Ng, offers a comprehensive curriculum in machine learning and deep learning. With its interactive lectures and hands-on exercises, learners can gain practical expertise in AI. The course's four-quadrant framework helps students understand the various applications and challenges of AI.\n",
      "\n",
      "In particular, the **Machine Learning Crash Course** stands out for its clear and concise introduction to ML concepts, while the **Deep Learning Specialization** is praised for its structured approach to building complex neural networks. What sets this platform apart is its focus on real-world implications, as learners are encouraged to apply theoretical knowledge to practical problems.\n",
      "\n",
      "The community-driven environment where learners collaborate, share insights, and get industry feedback is also a significant highlight. This peer-to-peer learning experience fosters growth, creativity, and critical thinking among participants.\n",
      "\n",
      "[**Image: Group of students working together on a project**]\n",
      "\n",
      "Achieving a deep understanding of AI concepts has never been easier! By investing in DeepLearning.AI's curriculum, professionals can stay at the forefront of this rapidly evolving field, develop their skills, and advance their careers.\n",
      "\n",
      "--------------------------------------------------------------------------------\n"
     ]
    }
   ],
   "source": [
    "res = critic.initiate_chat(\n",
    "    recipient=writer,\n",
    "    message=task,\n",
    "    max_turns=2,\n",
    "    summary_method=\"last_msg\"\n",
    ")"
   ]
  },
  {
   "cell_type": "code",
   "execution_count": 23,
   "id": "27b2410c",
   "metadata": {},
   "outputs": [
    {
     "name": "stdout",
     "output_type": "stream",
     "text": [
      "('**Unlocking the Power of AI with DeepLearning.AI**\\n'\n",
      " '\\n'\n",
      " 'DeepLearning.AI, a platform by Coursera and Andrew Ng, offers a '\n",
      " 'comprehensive curriculum in machine learning and deep learning. With its '\n",
      " 'interactive lectures and hands-on exercises, learners can gain practical '\n",
      " \"expertise in AI. The course's four-quadrant framework helps students \"\n",
      " 'understand the various applications and challenges of AI.\\n'\n",
      " '\\n'\n",
      " 'In particular, the **Machine Learning Crash Course** stands out for its '\n",
      " 'clear and concise introduction to ML concepts, while the **Deep Learning '\n",
      " 'Specialization** is praised for its structured approach to building complex '\n",
      " 'neural networks. What sets this platform apart is its focus on real-world '\n",
      " 'implications, as learners are encouraged to apply theoretical knowledge to '\n",
      " 'practical problems.\\n'\n",
      " '\\n'\n",
      " 'The community-driven environment where learners collaborate, share insights, '\n",
      " 'and get industry feedback is also a significant highlight. This peer-to-peer '\n",
      " 'learning experience fosters growth, creativity, and critical thinking among '\n",
      " 'participants.\\n'\n",
      " '\\n'\n",
      " '[**Image: Group of students working together on a project**]\\n'\n",
      " '\\n'\n",
      " 'Achieving a deep understanding of AI concepts has never been easier! By '\n",
      " \"investing in DeepLearning.AI's curriculum, professionals can stay at the \"\n",
      " 'forefront of this rapidly evolving field, develop their skills, and advance '\n",
      " 'their careers.')\n"
     ]
    }
   ],
   "source": [
    "import pprint\n",
    "pprint.pprint(res.summary)"
   ]
  },
  {
   "cell_type": "code",
   "execution_count": 38,
   "id": "58a452ec",
   "metadata": {},
   "outputs": [
    {
     "name": "stdout",
     "output_type": "stream",
     "text": [
      "**Unlocking the Power of AI with DeepLearning.AI**\n",
      "\n",
      "DeepLearning.AI, a platform by Coursera and Andrew Ng, offers a comprehensive curriculum in machine learning and deep learning. With its interactive lectures and hands-on exercises, learners can gain practical expertise in AI. The course's four-quadrant framework helps students understand the various applications and challenges of AI.\n",
      "\n",
      "In particular, the **Machine Learning Crash Course** stands out for its clear and concise introduction to ML concepts, while the **Deep Learning Specialization** is praised for its structured approach to building complex neural networks. What sets this platform apart is its focus on real-world implications, as learners are encouraged to apply theoretical knowledge to practical problems.\n",
      "\n",
      "The community-driven environment where learners collaborate, share insights, and get industry feedback is also a significant highlight. This peer-to-peer learning experience fosters growth, creativity, and critical thinking among participants.\n",
      "\n",
      "[**Image: Group of students working together on a project**]\n",
      "\n",
      "Achieving a deep understanding of AI concepts has never been easier! By investing in DeepLearning.AI's curriculum, professionals can stay at the forefront of this rapidly evolving field, develop their skills, and advance their careers.\n"
     ]
    }
   ],
   "source": [
    "print(res.chat_history[-1]['content'])"
   ]
  },
  {
   "cell_type": "markdown",
   "id": "e7b76449",
   "metadata": {},
   "source": [
    "## Nested chat"
   ]
  },
  {
   "cell_type": "code",
   "execution_count": 39,
   "id": "401ecf92-63e9-40ff-aeed-1c404352e4ab",
   "metadata": {
    "height": 217
   },
   "outputs": [],
   "source": [
    "SEO_reviewer = autogen.AssistantAgent(\n",
    "    name=\"SEO Reviewer\",\n",
    "    llm_config=llm_config,\n",
    "    system_message=\"You are an SEO reviewer, known for \"\n",
    "        \"your ability to optimize content for search engines, \"\n",
    "        \"ensuring that it ranks well and attracts organic traffic. \" \n",
    "        \"Make sure your suggestion is concise (within 3 bullet points), \"\n",
    "        \"concrete and to the point. \"\n",
    "        \"Begin the review by stating your role.\",\n",
    ")\n"
   ]
  },
  {
   "cell_type": "code",
   "execution_count": 40,
   "id": "f85acb81-7ab9-4c84-b8bb-6fbae3dce848",
   "metadata": {
    "height": 200
   },
   "outputs": [],
   "source": [
    "legal_reviewer = autogen.AssistantAgent(\n",
    "    name=\"Legal Reviewer\",\n",
    "    llm_config=llm_config,\n",
    "    system_message=\"You are a legal reviewer, known for \"\n",
    "        \"your ability to ensure that content is legally compliant \"\n",
    "        \"and free from any potential legal issues. \"\n",
    "        \"Make sure your suggestion is concise (within 3 bullet points), \"\n",
    "        \"concrete and to the point. \"\n",
    "        \"Begin the review by stating your role.\",\n",
    ")"
   ]
  },
  {
   "cell_type": "code",
   "execution_count": 41,
   "id": "d46a177a-8088-4956-8d2b-3e916b8ca5e9",
   "metadata": {
    "height": 200
   },
   "outputs": [],
   "source": [
    "ethics_reviewer = autogen.AssistantAgent(\n",
    "    name=\"Ethics Reviewer\",\n",
    "    llm_config=llm_config,\n",
    "    system_message=\"You are an ethics reviewer, known for \"\n",
    "        \"your ability to ensure that content is ethically sound \"\n",
    "        \"and free from any potential ethical issues. \" \n",
    "        \"Make sure your suggestion is concise (within 3 bullet points), \"\n",
    "        \"concrete and to the point. \"\n",
    "        \"Begin the review by stating your role. \",\n",
    ")"
   ]
  },
  {
   "cell_type": "code",
   "execution_count": 45,
   "id": "a7b2ad6f-8ba6-436a-9459-14ffbe8a32d3",
   "metadata": {
    "height": 132
   },
   "outputs": [],
   "source": [
    "meta_reviewer = autogen.AssistantAgent(\n",
    "    name=\"Meta Reviewer\",\n",
    "    llm_config=llm_config,\n",
    "    system_message=\"You are a meta reviewer, you aggragate and review \"\n",
    "    \"the work of other reviewers and give a final suggestion on the content.\",\n",
    ")"
   ]
  },
  {
   "cell_type": "markdown",
   "id": "913beca1",
   "metadata": {},
   "source": [
    "## Orchestrate the nested chats to solve the task"
   ]
  },
  {
   "cell_type": "code",
   "execution_count": 46,
   "id": "a11a70c7-19ca-4e5a-ad3d-f2b481fb5915",
   "metadata": {
    "height": 557
   },
   "outputs": [],
   "source": [
    "def reflection_message(recipient, messages, sender, config):\n",
    "    return f'''Review the following content. \n",
    "            \\n\\n {recipient.chat_messages_for_summary(sender)[-1]['content']}'''\n",
    "\n",
    "review_chats = [\n",
    "    {\n",
    "     \"recipient\": SEO_reviewer, \n",
    "     \"message\": reflection_message, \n",
    "     \"summary_method\": \"reflection_with_llm\",\n",
    "     \"summary_args\": {\"summary_prompt\" : \n",
    "        \"Return review into as JSON object only:\"\n",
    "        \"{'Reviewer': '', 'Review': ''}. Here Reviewer should be your role\",},\n",
    "     \"max_turns\": 1},\n",
    "    {\n",
    "    \"recipient\": legal_reviewer, \"message\": reflection_message, \n",
    "     \"summary_method\": \"reflection_with_llm\",\n",
    "     \"summary_args\": {\"summary_prompt\" : \n",
    "        \"Return review into as JSON object only:\"\n",
    "        \"{'Reviewer': '', 'Review': ''}.\",},\n",
    "     \"max_turns\": 1},\n",
    "    {\"recipient\": ethics_reviewer, \"message\": reflection_message, \n",
    "     \"summary_method\": \"reflection_with_llm\",\n",
    "     \"summary_args\": {\"summary_prompt\" : \n",
    "        \"Return review into as JSON object only:\"\n",
    "        \"{'reviewer': '', 'review': ''}\",},\n",
    "     \"max_turns\": 1},\n",
    "     {\"recipient\": meta_reviewer, \n",
    "      \"message\": \"Aggregrate feedback from all reviewers and give final suggestions on the writing.\", \n",
    "     \"max_turns\": 1},\n",
    "]\n"
   ]
  },
  {
   "cell_type": "code",
   "execution_count": 47,
   "id": "b3a40b66-5061-460d-ad9d-c0dbcfbba2e9",
   "metadata": {
    "height": 81
   },
   "outputs": [],
   "source": [
    "critic.register_nested_chats(\n",
    "    review_chats,\n",
    "    trigger=writer,\n",
    ")"
   ]
  },
  {
   "cell_type": "markdown",
   "id": "43b8797d",
   "metadata": {},
   "source": [
    "**Note**: You might get a slightly different response than what's shown in the video. Feel free to try different task."
   ]
  },
  {
   "cell_type": "code",
   "execution_count": 48,
   "id": "3b8dcac3-1e72-43b7-9d5a-1be740f6efd5",
   "metadata": {
    "height": 115
   },
   "outputs": [
    {
     "name": "stdout",
     "output_type": "stream",
     "text": [
      "\u001b[33mCritic\u001b[0m (to Writer):\n",
      "\n",
      "\n",
      "       Write a concise but engaging blogpost about\n",
      "       DeepLearning.AI. Make sure the blogpost is\n",
      "       within 100 words.\n",
      "       \n",
      "\n",
      "--------------------------------------------------------------------------------\n",
      "\u001b[33mWriter\u001b[0m (to Critic):\n",
      "\n",
      "**Unlocking AI Potential with Deep Learning**\n",
      "\n",
      "DeepLearning.AI, an initiative by Andrew Ng and colleagues, revolutionizes the way we approach Artificial Intelligence (AI) learning. This comprehensive platform offers a wide range of educational resources, from tutorials to courses, designed to equip learners with in-demand skills.\n",
      "\n",
      "Through interactive lectures, hands-on exercises, and case studies, DeepLearning.AI provides an immersive experience that bridges the gap between theory and practice. The curriculum caters to beginners and seasoned professionals alike, ensuring everyone can grasp the power of deep learning with ease. Join this AI journey today!\n",
      "\n",
      "--------------------------------------------------------------------------------\n",
      "\u001b[34m\n",
      "********************************************************************************\u001b[0m\n",
      "\u001b[34mStarting a new chat....\u001b[0m\n",
      "\u001b[34m\n",
      "********************************************************************************\u001b[0m\n",
      "\u001b[33mCritic\u001b[0m (to SEO Reviewer):\n",
      "\n",
      "Review the following content. \n",
      "            \n",
      "\n",
      " **Unlocking AI Potential with Deep Learning**\n",
      "\n",
      "DeepLearning.AI, an initiative by Andrew Ng and colleagues, revolutionizes the way we approach Artificial Intelligence (AI) learning. This comprehensive platform offers a wide range of educational resources, from tutorials to courses, designed to equip learners with in-demand skills.\n",
      "\n",
      "Through interactive lectures, hands-on exercises, and case studies, DeepLearning.AI provides an immersive experience that bridges the gap between theory and practice. The curriculum caters to beginners and seasoned professionals alike, ensuring everyone can grasp the power of deep learning with ease. Join this AI journey today!\n",
      "\n",
      "--------------------------------------------------------------------------------\n",
      "\u001b[33mSEO Reviewer\u001b[0m (to Critic):\n",
      "\n",
      "**As an SEO Reviewer**\n",
      "\n",
      "To enhance the content's search engine optimization (SEO), consider the following suggestions:\n",
      "\n",
      "• **Keyword Optimization**: Incorporate relevant keywords such as \"AI potential\", \"deep learning\", and \"Andrew Ng\" to improve search visibility.\n",
      "• **Long-Tail Phrases**: Add phrases like \"comprehensive AI learning platform\" or \"deep learning education resources\" to target specific search queries and attract more targeted traffic.\n",
      "• **Anchor Text**: Use descriptive anchor text (e.g., \"DeepLearning.AI initiative\") instead of generic links, improving the content's relevance and authority in search engine rankings.\n",
      "\n",
      "--------------------------------------------------------------------------------\n",
      "\u001b[34m\n",
      "********************************************************************************\u001b[0m\n",
      "\u001b[34mStarting a new chat....\u001b[0m\n",
      "\u001b[34m\n",
      "********************************************************************************\u001b[0m\n",
      "\u001b[33mCritic\u001b[0m (to Legal Reviewer):\n",
      "\n",
      "Review the following content. \n",
      "            \n",
      "\n",
      " **Unlocking AI Potential with Deep Learning**\n",
      "\n",
      "DeepLearning.AI, an initiative by Andrew Ng and colleagues, revolutionizes the way we approach Artificial Intelligence (AI) learning. This comprehensive platform offers a wide range of educational resources, from tutorials to courses, designed to equip learners with in-demand skills.\n",
      "\n",
      "Through interactive lectures, hands-on exercises, and case studies, DeepLearning.AI provides an immersive experience that bridges the gap between theory and practice. The curriculum caters to beginners and seasoned professionals alike, ensuring everyone can grasp the power of deep learning with ease. Join this AI journey today!\n",
      "Context: \n",
      "\n",
      "\n",
      "--------------------------------------------------------------------------------\n",
      "\u001b[33mLegal Reviewer\u001b[0m (to Critic):\n",
      "\n",
      "**Role: Legal Reviewer**\n",
      "\n",
      "After reviewing the content, I suggest the following:\n",
      "\n",
      "* **Clarify intellectual property rights**: Add a disclaimer to ensure that any trademarks (e.g., \"DeepLearning.AI\") and copyrights are properly acknowledged.\n",
      "* **Disclaim liability**: Include a statement that DeepLearning.AI, Andrew Ng, and colleagues disclaim any responsibility for the accuracy or completeness of the resources provided on their platform.\n",
      "* **Comply with anti-discrimination laws**: Consider adding language to ensure that all learners are welcome and that AI training is accessible without regard to race, color, national origin, sex, age, disability, or other protected characteristics.\n",
      "\n",
      "--------------------------------------------------------------------------------\n",
      "\u001b[34m\n",
      "********************************************************************************\u001b[0m\n",
      "\u001b[34mStarting a new chat....\u001b[0m\n",
      "\u001b[34m\n",
      "********************************************************************************\u001b[0m\n",
      "\u001b[33mCritic\u001b[0m (to Ethics Reviewer):\n",
      "\n",
      "Review the following content. \n",
      "            \n",
      "\n",
      " **Unlocking AI Potential with Deep Learning**\n",
      "\n",
      "DeepLearning.AI, an initiative by Andrew Ng and colleagues, revolutionizes the way we approach Artificial Intelligence (AI) learning. This comprehensive platform offers a wide range of educational resources, from tutorials to courses, designed to equip learners with in-demand skills.\n",
      "\n",
      "Through interactive lectures, hands-on exercises, and case studies, DeepLearning.AI provides an immersive experience that bridges the gap between theory and practice. The curriculum caters to beginners and seasoned professionals alike, ensuring everyone can grasp the power of deep learning with ease. Join this AI journey today!\n",
      "Context: \n",
      "\n",
      "\n",
      "\n",
      "--------------------------------------------------------------------------------\n",
      "\u001b[33mEthics Reviewer\u001b[0m (to Critic):\n",
      "\n",
      "**Ethics Reviewer's Note**\n",
      "\n",
      "I have reviewed the content provided for any potential ethical concerns.\n",
      "\n",
      "Here are my suggestions:\n",
      "\n",
      "* **Transparency**: Consider adding a disclaimer to clearly indicate that DeepLearning.AI is an initiative by Andrew Ng and colleagues, ensuring transparency about the platform's affiliation and ownership.\n",
      "* **Skill Promotion Authenticity**: Verify the claim of DeepLearning.AI providing \"in-demand skills\" by ensuring that the content is indeed aligned with industry standards and job market requirements. This will prevent misleading learners about the relevance of the skills they acquire.\n",
      "* **Intellectual Property Statement**: Provide a clear statement regarding the ownership rights to any original content, such as lectures or course materials, used within DeepLearning.AI, to avoid potential copyright infringement issues.\n",
      "\n",
      "--------------------------------------------------------------------------------\n",
      "\u001b[34m\n",
      "********************************************************************************\u001b[0m\n",
      "\u001b[34mStarting a new chat....\u001b[0m\n",
      "\u001b[34m\n",
      "********************************************************************************\u001b[0m\n",
      "\u001b[33mCritic\u001b[0m (to Meta Reviewer):\n",
      "\n",
      "Aggregrate feedback from all reviewers and give final suggestions on the writing.\n",
      "Context: \n",
      "\n",
      "\n",
      "\n",
      "\n",
      "--------------------------------------------------------------------------------\n",
      "\u001b[33mMeta Reviewer\u001b[0m (to Critic):\n",
      "\n",
      "I'm ready to aggregate feedback and provide final suggestions.\n",
      "\n",
      "Please go ahead and share the context of the content, such as the type of writing (blog post, book chapter, article), topic, and any relevant information.\n",
      "\n",
      "Additionally, you can also share the feedback from various reviewers, or I'll wait for you to list them out. I'll compile all the comments and provide a final, meta-review with actionable suggestions on how to improve the content.\n",
      "\n",
      "--------------------------------------------------------------------------------\n",
      "\u001b[33mCritic\u001b[0m (to Writer):\n",
      "\n",
      "I'm ready to aggregate feedback and provide final suggestions.\n",
      "\n",
      "Please go ahead and share the context of the content, such as the type of writing (blog post, book chapter, article), topic, and any relevant information.\n",
      "\n",
      "Additionally, you can also share the feedback from various reviewers, or I'll wait for you to list them out. I'll compile all the comments and provide a final, meta-review with actionable suggestions on how to improve the content.\n",
      "\n",
      "--------------------------------------------------------------------------------\n",
      "\u001b[33mWriter\u001b[0m (to Critic):\n",
      "\n",
      "**Content Context:**\n",
      "\n",
      "* Type of writing: Blog post\n",
      "* Topic: DeepLearning.AI initiative and its educational resources\n",
      "* Word count goal: 100 words\n",
      "* Target audience: Individuals interested in learning about AI and deep learning\n",
      "* Tone: Informative, engaging, and concise\n",
      "\n",
      "**Feedback from Reviewers:**\n",
      "\n",
      "1. **Reviewer 1 (EDU Specialist)**:\n",
      "\t* Suggests adding a brief explanation of what deep learning is, for readers who are completely new to the topic.\n",
      "\t* Recommends making the language more formal and academic-oriented.\n",
      "2. **Reviewer 2 (AI Enthusiast)**:\n",
      "\t* Praises the blog post's enthusiasm and engagement, but suggests toning down the promotional language to make it more informative.\n",
      "\t* Proposes including specific examples or case studies of DeepLearning.AI's impact.\n",
      "3. **Reviewer 3 (Content Editor)**:\n",
      "\t* Critiques the text for being slightly too short and vague about the resources offered by DeepLearning.ai.\n",
      "\t* Suggests adding a clear call-to-action, such as a link to the platform.\n",
      "\n",
      "Please go ahead and compile these suggestions into a unified feedback framework!\n",
      "\n",
      "--------------------------------------------------------------------------------\n"
     ]
    }
   ],
   "source": [
    "res = critic.initiate_chat(\n",
    "    recipient=writer,\n",
    "    message=task,\n",
    "    max_turns=2,\n",
    "    summary_method=\"last_msg\"\n",
    ")"
   ]
  },
  {
   "cell_type": "markdown",
   "id": "c5c833b0",
   "metadata": {},
   "source": [
    "## Get the summary"
   ]
  },
  {
   "cell_type": "code",
   "execution_count": 15,
   "id": "68ef82ed-f102-4964-b7be-60e2f258a39b",
   "metadata": {
    "height": 30
   },
   "outputs": [
    {
     "name": "stdout",
     "output_type": "stream",
     "text": [
      "Title: Mastering AI: Your Gateway to DeepLearning.AI\n",
      "\n",
      "Embark on a transformative journey in artificial intelligence with DeepLearning.AI, a cutting-edge platform reshaping the industry. Curated for all skill levels, from beginners to experts, DeepLearning.AI offers comprehensive courses empowering you with in-depth knowledge of neural networks, deep learning, and more. Elevate your career and skills with expert guidance and hands-on experience. Join the thriving DeepLearning.AI community today and unlock endless opportunities in the AI landscape.\n",
      "\n",
      "Don't miss out – dive into the world of AI with DeepLearning.AI now!\n",
      "\n",
      "Incorporate the feedback received from reviewers and deliver a refined version of the blogpost on DeepLearning.AI.\n"
     ]
    }
   ],
   "source": [
    "print(res.summary)"
   ]
  }
 ],
 "metadata": {
  "kernelspec": {
   "display_name": "Python 3",
   "language": "python",
   "name": "python3"
  },
  "language_info": {
   "codemirror_mode": {
    "name": "ipython",
    "version": 3
   },
   "file_extension": ".py",
   "mimetype": "text/x-python",
   "name": "python",
   "nbconvert_exporter": "python",
   "pygments_lexer": "ipython3",
   "version": "3.10.0"
  }
 },
 "nbformat": 4,
 "nbformat_minor": 5
}
