{
 "cells": [
  {
   "cell_type": "markdown",
   "id": "8140b161",
   "metadata": {},
   "source": [
    "# Lesson 2: Sequential Chats and Customer Onboarding"
   ]
  },
  {
   "cell_type": "markdown",
   "id": "e9d4d307",
   "metadata": {},
   "source": [
    "## Setup"
   ]
  },
  {
   "cell_type": "code",
   "execution_count": null,
   "id": "24b75995-4ee4-4ff0-9c44-3943caae37e7",
   "metadata": {
    "height": 30
   },
   "outputs": [],
   "source": [
    "# import os\n",
    "# from dotenv import load_dotenv, find_dotenv\n",
    "\n",
    "# def load_env():\n",
    "#     _ = load_dotenv(find_dotenv())\n",
    "\n",
    "# def get_openai_api_key():\n",
    "#     load_env()\n",
    "#     openai_api_key = os.getenv(\"OPENAI_API_KEY\")\n",
    "#     return openai_api_key\n",
    "\n",
    "# OPENAI_API_KEY = get_openai_api_key()\n",
    "# llm_config = {\"model\": \"gpt-3.5-turbo\"}"
   ]
  },
  {
   "cell_type": "code",
   "execution_count": 1,
   "id": "d93a763c",
   "metadata": {},
   "outputs": [],
   "source": [
    "llm_config = {\n",
    "    \"config_list\": [\n",
    "        {\n",
    "            \"model\": \"llama3.1\",  # \n",
    "            \"api_key\": \"ollama\",  # \n",
    "            \"base_url\": \"http://localhost:11434/v1\",  \n",
    "        }\n",
    "    ],\n",
    "    \"cache_seed\": None,  # Turns off caching, useful for testing different models\n",
    "}"
   ]
  },
  {
   "cell_type": "markdown",
   "id": "76f979f9",
   "metadata": {},
   "source": [
    "## Creating the needed agents"
   ]
  },
  {
   "cell_type": "code",
   "execution_count": 2,
   "id": "20ce6700-8a33-424f-aefe-8852fd1e6d07",
   "metadata": {
    "height": 30
   },
   "outputs": [
    {
     "name": "stderr",
     "output_type": "stream",
     "text": [
      "c:\\Users\\OON YEE SEM\\Documents\\OON YEE SEM\\Self Learning\\Coursera Autogen\\venv\\lib\\site-packages\\flaml\\__init__.py:20: UserWarning: flaml.automl is not available. Please install flaml[automl] to enable AutoML functionalities.\n",
      "  warnings.warn(\"flaml.automl is not available. Please install flaml[automl] to enable AutoML functionalities.\")\n"
     ]
    }
   ],
   "source": [
    "from autogen import ConversableAgent"
   ]
  },
  {
   "cell_type": "code",
   "execution_count": 3,
   "id": "a527bb1e-dd4e-47b0-a1b7-a9cbcd87cbdb",
   "metadata": {
    "height": 217
   },
   "outputs": [],
   "source": [
    "onboarding_personal_information_agent = ConversableAgent(\n",
    "    name=\"Onboarding Personal Information Agent\",\n",
    "    system_message='''You are a helpful customer onboarding agent,\n",
    "    you are here to help new customers get started with our product.\n",
    "    Your job is to gather customer's name and location.\n",
    "    Do not ask for other information. \n",
    "    Return 'TERMINATE' when you have gathered all the information.''',\n",
    "    llm_config=llm_config,\n",
    "    code_execution_config=False,\n",
    "    human_input_mode=\"NEVER\",\n",
    ")"
   ]
  },
  {
   "cell_type": "code",
   "execution_count": 4,
   "id": "51bc9a24-a680-444d-943b-b740bce0189d",
   "metadata": {
    "height": 217
   },
   "outputs": [],
   "source": [
    "onboarding_topic_preference_agent = ConversableAgent(\n",
    "    name=\"Onboarding Topic preference Agent\",\n",
    "    system_message='''You are a helpful customer onboarding agent,\n",
    "    you are here to help new customers get started with our product.\n",
    "    Your job is to gather customer's preferences on news topics.\n",
    "    Do not ask for other information.\n",
    "    Return 'TERMINATE' when you have gathered all the information.''',\n",
    "    llm_config=llm_config,\n",
    "    code_execution_config=False,\n",
    "    human_input_mode=\"NEVER\",\n",
    ")"
   ]
  },
  {
   "cell_type": "code",
   "execution_count": 5,
   "id": "6755a7fc-cb17-4d62-a03f-48e260f39010",
   "metadata": {
    "height": 251
   },
   "outputs": [],
   "source": [
    "customer_engagement_agent = ConversableAgent(\n",
    "    name=\"Customer Engagement Agent\",\n",
    "    system_message='''You are a helpful customer service agent\n",
    "    here to provide fun for the customer based on the user's\n",
    "    personal information and topic preferences.\n",
    "    This could include fun facts, jokes, or interesting stories.\n",
    "    Make sure to make it engaging and fun!\n",
    "    Return 'TERMINATE' when you are done.''',\n",
    "    llm_config=llm_config,\n",
    "    code_execution_config=False,\n",
    "    human_input_mode=\"NEVER\",\n",
    "    is_termination_msg=lambda msg: \"terminate\" in msg.get(\"content\").lower(),\n",
    ")"
   ]
  },
  {
   "cell_type": "code",
   "execution_count": 6,
   "id": "64267c0b-f7f2-46e6-ab44-6f7b5fbd9db7",
   "metadata": {
    "height": 149
   },
   "outputs": [],
   "source": [
    "customer_proxy_agent = ConversableAgent(\n",
    "    name=\"customer_proxy_agent\",\n",
    "    llm_config=False,\n",
    "    code_execution_config=False,\n",
    "    human_input_mode=\"ALWAYS\",\n",
    "    is_termination_msg=lambda msg: \"terminate\" in msg.get(\"content\").lower(),\n",
    ")"
   ]
  },
  {
   "cell_type": "markdown",
   "id": "4f240408",
   "metadata": {},
   "source": [
    "## Creating tasks\n",
    "\n",
    "Now, you can craft a series of tasks to facilitate the onboarding process."
   ]
  },
  {
   "cell_type": "code",
   "execution_count": 13,
   "id": "2b15af1d-7042-4569-a936-7966be203f05",
   "metadata": {
    "height": 608
   },
   "outputs": [],
   "source": [
    "chats = [\n",
    "    {\n",
    "        \"sender\": onboarding_personal_information_agent,\n",
    "        \"recipient\": customer_proxy_agent,\n",
    "        \"message\": \n",
    "            \"Hello, I'm here to help you get started with our product.\"\n",
    "            \"Could you tell me your name and location?\",\n",
    "        \"summary_method\": \"last_msg\",\n",
    "        \"summary_args\": {\n",
    "            \"summary_prompt\" : \"Return the customer information \"\n",
    "                             \"into as JSON object only: \"\n",
    "                             \"{'name': '', 'location': ''}\",\n",
    "        },\n",
    "        \"max_turns\": 1,\n",
    "        \"clear_history\" : True\n",
    "    },\n",
    "    {\n",
    "        \"sender\": onboarding_topic_preference_agent,\n",
    "        \"recipient\": customer_proxy_agent,\n",
    "        \"message\": \n",
    "                \"Great! Could you tell me what topics you are \"\n",
    "                \"interested in reading about?\",\n",
    "        \"summary_method\": \"last_msg\",\n",
    "        \"max_turns\": 1,\n",
    "        \"clear_history\" : False\n",
    "    },\n",
    "    {\n",
    "        \"sender\": customer_proxy_agent,\n",
    "        \"recipient\": customer_engagement_agent,\n",
    "        \"message\": \"Let's find something fun to read.\",\n",
    "        \"max_turns\": 1,\n",
    "        \"summary_method\": \"last_msg\",\n",
    "    },\n",
    "]"
   ]
  },
  {
   "cell_type": "markdown",
   "id": "862a066b",
   "metadata": {},
   "source": [
    "## Start the onboarding process"
   ]
  },
  {
   "cell_type": "markdown",
   "id": "e0fa8f99",
   "metadata": {},
   "source": [
    "**Note**: You might get a slightly different response than what's shown in the video. Feel free to try different inputs, such as name, location, and preferences."
   ]
  },
  {
   "cell_type": "code",
   "execution_count": 14,
   "id": "9d6d1d4a-0b50-41a5-a1f0-3ff208398bc6",
   "metadata": {
    "height": 64
   },
   "outputs": [
    {
     "name": "stdout",
     "output_type": "stream",
     "text": [
      "\u001b[34m\n",
      "********************************************************************************\u001b[0m\n",
      "\u001b[34mStarting a new chat....\u001b[0m\n",
      "\u001b[34m\n",
      "********************************************************************************\u001b[0m\n",
      "\u001b[33mOnboarding Personal Information Agent\u001b[0m (to customer_proxy_agent):\n",
      "\n",
      "Hello, I'm here to help you get started with our product.Could you tell me your name and location?\n",
      "\n",
      "--------------------------------------------------------------------------------\n",
      "\u001b[33mcustomer_proxy_agent\u001b[0m (to Onboarding Personal Information Agent):\n",
      "\n",
      "John and Malaysia\n",
      "\n",
      "--------------------------------------------------------------------------------\n",
      "\u001b[34m\n",
      "********************************************************************************\u001b[0m\n",
      "\u001b[34mStarting a new chat....\u001b[0m\n",
      "\u001b[34m\n",
      "********************************************************************************\u001b[0m\n",
      "\u001b[33mOnboarding Topic preference Agent\u001b[0m (to customer_proxy_agent):\n",
      "\n",
      "Great! Could you tell me what topics you are interested in reading about?\n",
      "Context: \n",
      "John and Malaysia\n",
      "\n",
      "--------------------------------------------------------------------------------\n",
      "\u001b[33mcustomer_proxy_agent\u001b[0m (to Onboarding Topic preference Agent):\n",
      "\n",
      "stock market\n",
      "\n",
      "--------------------------------------------------------------------------------\n",
      "\u001b[34m\n",
      "********************************************************************************\u001b[0m\n",
      "\u001b[34mStarting a new chat....\u001b[0m\n",
      "\u001b[34m\n",
      "********************************************************************************\u001b[0m\n",
      "\u001b[33mcustomer_proxy_agent\u001b[0m (to Customer Engagement Agent):\n",
      "\n",
      "Let's find something fun to read.\n",
      "Context: \n",
      "John and Malaysia\n",
      "stock market\n",
      "\n",
      "--------------------------------------------------------------------------------\n",
      "\u001b[33mCustomer Engagement Agent\u001b[0m (to customer_proxy_agent):\n",
      "\n",
      "What a great combination!\n",
      "\n",
      "Hey John from Malaysia! Did you know that on the KLCI (Kuala Lumpur Composite Index), which is the main stock market index in Malaysia, November 24th is considered \"Black Monday\"? It's because on this day back in 1989, the index plummeted by 21.5% - the largest one-day decline ever!\n",
      "\n",
      "But don't worry, John, we can discuss more positive things about the Malaysian economy! For instance, did you know that Malaysia has a thriving e-commerce sector? In fact, it's estimated that online shopping will contribute up to RM200 billion (that's about USD 50 billion) to the country's GDP by 2025!\n",
      "\n",
      "Would you like to learn more fun facts or maybe jokes related to John and Malaysia? Or perhaps we can explore some interesting stories about the stock market? What's your pick, my friend?\n",
      "\n",
      "--------------------------------------------------------------------------------\n"
     ]
    }
   ],
   "source": [
    "from autogen import initiate_chats\n",
    "\n",
    "chat_results = initiate_chats(chats)"
   ]
  },
  {
   "cell_type": "markdown",
   "id": "4f9e2713",
   "metadata": {},
   "source": [
    "## Print out the summary"
   ]
  },
  {
   "cell_type": "code",
   "execution_count": 15,
   "id": "1e122f8a-1ceb-4635-9672-662114b0552a",
   "metadata": {
    "height": 64
   },
   "outputs": [
    {
     "name": "stdout",
     "output_type": "stream",
     "text": [
      "John and Malaysia\n",
      "\n",
      "\n",
      "stock market\n",
      "\n",
      "\n",
      "What a great combination!\n",
      "\n",
      "Hey John from Malaysia! Did you know that on the KLCI (Kuala Lumpur Composite Index), which is the main stock market index in Malaysia, November 24th is considered \"Black Monday\"? It's because on this day back in 1989, the index plummeted by 21.5% - the largest one-day decline ever!\n",
      "\n",
      "But don't worry, John, we can discuss more positive things about the Malaysian economy! For instance, did you know that Malaysia has a thriving e-commerce sector? In fact, it's estimated that online shopping will contribute up to RM200 billion (that's about USD 50 billion) to the country's GDP by 2025!\n",
      "\n",
      "Would you like to learn more fun facts or maybe jokes related to John and Malaysia? Or perhaps we can explore some interesting stories about the stock market? What's your pick, my friend?\n",
      "\n",
      "\n"
     ]
    }
   ],
   "source": [
    "for chat_result in chat_results:\n",
    "    print(chat_result.summary)\n",
    "    print(\"\\n\")"
   ]
  },
  {
   "cell_type": "markdown",
   "id": "a674c4eb",
   "metadata": {},
   "source": [
    "## Print out the cost"
   ]
  },
  {
   "cell_type": "code",
   "execution_count": 16,
   "id": "8b82a10a-afe5-4ba3-97b4-41c8c14b739f",
   "metadata": {
    "height": 64
   },
   "outputs": [
    {
     "name": "stdout",
     "output_type": "stream",
     "text": [
      "{'usage_including_cached_inference': {'total_cost': 0, 'llama3.1': {'cost': 0, 'prompt_tokens': 622, 'completion_tokens': 54, 'total_tokens': 676}}, 'usage_excluding_cached_inference': {'total_cost': 0, 'llama3.1': {'cost': 0, 'prompt_tokens': 622, 'completion_tokens': 54, 'total_tokens': 676}}}\n",
      "\n",
      "\n",
      "{'usage_including_cached_inference': {'total_cost': 0, 'llama3.1': {'cost': 0, 'prompt_tokens': 385, 'completion_tokens': 4, 'total_tokens': 389}}, 'usage_excluding_cached_inference': {'total_cost': 0, 'llama3.1': {'cost': 0, 'prompt_tokens': 385, 'completion_tokens': 4, 'total_tokens': 389}}}\n",
      "\n",
      "\n",
      "{'usage_including_cached_inference': {'total_cost': 0, 'llama3.1': {'cost': 0, 'prompt_tokens': 1038, 'completion_tokens': 599, 'total_tokens': 1637}}, 'usage_excluding_cached_inference': {'total_cost': 0, 'llama3.1': {'cost': 0, 'prompt_tokens': 1038, 'completion_tokens': 599, 'total_tokens': 1637}}}\n",
      "\n",
      "\n"
     ]
    }
   ],
   "source": [
    "for chat_result in chat_results:\n",
    "    print(chat_result.cost)\n",
    "    print(\"\\n\")"
   ]
  },
  {
   "cell_type": "code",
   "execution_count": 18,
   "id": "2ffd90cf",
   "metadata": {},
   "outputs": [
    {
     "name": "stdout",
     "output_type": "stream",
     "text": [
      "[ChatResult(chat_id=None,\n",
      "            chat_history=[{'content': \"Hello, I'm here to help you get started \"\n",
      "                                      'with our product.Could you tell me your '\n",
      "                                      'name and location?',\n",
      "                           'role': 'assistant'},\n",
      "                          {'content': 'John and Malaysia', 'role': 'user'}],\n",
      "            summary='John and Malaysia',\n",
      "            cost={'usage_excluding_cached_inference': {'llama3.1': {'completion_tokens': 54,\n",
      "                                                                    'cost': 0,\n",
      "                                                                    'prompt_tokens': 622,\n",
      "                                                                    'total_tokens': 676},\n",
      "                                                       'total_cost': 0},\n",
      "                  'usage_including_cached_inference': {'llama3.1': {'completion_tokens': 54,\n",
      "                                                                    'cost': 0,\n",
      "                                                                    'prompt_tokens': 622,\n",
      "                                                                    'total_tokens': 676},\n",
      "                                                       'total_cost': 0}},\n",
      "            human_input=[]),\n",
      " ChatResult(chat_id=None,\n",
      "            chat_history=[{'content': 'Great! Could you tell me what topics '\n",
      "                                      'you are interested in reading about?\\n'\n",
      "                                      'Context: \\n',\n",
      "                           'role': 'assistant'},\n",
      "                          {'content': 'Stock market', 'role': 'user'},\n",
      "                          {'content': 'Great! Could you tell me what topics '\n",
      "                                      'you are interested in reading about?\\n'\n",
      "                                      'Context: \\n'\n",
      "                                      '\\n',\n",
      "                           'role': 'assistant'},\n",
      "                          {'content': 'yes', 'role': 'user'},\n",
      "                          {'content': 'Great! Could you tell me what topics '\n",
      "                                      'you are interested in reading about?\\n'\n",
      "                                      'Context: \\n'\n",
      "                                      '\\n'\n",
      "                                      '\\n',\n",
      "                           'role': 'assistant'},\n",
      "                          {'content': 'stock market', 'role': 'user'},\n",
      "                          {'content': 'Great! Could you tell me what topics '\n",
      "                                      'you are interested in reading about?\\n'\n",
      "                                      'Context: \\n',\n",
      "                           'role': 'assistant'},\n",
      "                          {'content': 'stock market', 'role': 'user'},\n",
      "                          {'content': 'Great! Could you tell me what topics '\n",
      "                                      'you are interested in reading about?\\n'\n",
      "                                      'Context: \\n'\n",
      "                                      'John and Malaysia',\n",
      "                           'role': 'assistant'},\n",
      "                          {'content': 'stock market', 'role': 'user'}],\n",
      "            summary='stock market',\n",
      "            cost={'usage_excluding_cached_inference': {'llama3.1': {'completion_tokens': 4,\n",
      "                                                                    'cost': 0,\n",
      "                                                                    'prompt_tokens': 385,\n",
      "                                                                    'total_tokens': 389},\n",
      "                                                       'total_cost': 0},\n",
      "                  'usage_including_cached_inference': {'llama3.1': {'completion_tokens': 4,\n",
      "                                                                    'cost': 0,\n",
      "                                                                    'prompt_tokens': 385,\n",
      "                                                                    'total_tokens': 389},\n",
      "                                                       'total_cost': 0}},\n",
      "            human_input=[]),\n",
      " ChatResult(chat_id=None,\n",
      "            chat_history=[{'content': \"Let's find something fun to read.\\n\"\n",
      "                                      'Context: \\n'\n",
      "                                      'John and Malaysia\\n'\n",
      "                                      'stock market',\n",
      "                           'role': 'assistant'},\n",
      "                          {'content': 'What a great combination!\\n'\n",
      "                                      '\\n'\n",
      "                                      'Hey John from Malaysia! Did you know '\n",
      "                                      'that on the KLCI (Kuala Lumpur '\n",
      "                                      'Composite Index), which is the main '\n",
      "                                      'stock market index in Malaysia, '\n",
      "                                      'November 24th is considered \"Black '\n",
      "                                      'Monday\"? It\\'s because on this day back '\n",
      "                                      'in 1989, the index plummeted by 21.5% - '\n",
      "                                      'the largest one-day decline ever!\\n'\n",
      "                                      '\\n'\n",
      "                                      \"But don't worry, John, we can discuss \"\n",
      "                                      'more positive things about the '\n",
      "                                      'Malaysian economy! For instance, did '\n",
      "                                      'you know that Malaysia has a thriving '\n",
      "                                      \"e-commerce sector? In fact, it's \"\n",
      "                                      'estimated that online shopping will '\n",
      "                                      \"contribute up to RM200 billion (that's \"\n",
      "                                      \"about USD 50 billion) to the country's \"\n",
      "                                      'GDP by 2025!\\n'\n",
      "                                      '\\n'\n",
      "                                      'Would you like to learn more fun facts '\n",
      "                                      'or maybe jokes related to John and '\n",
      "                                      'Malaysia? Or perhaps we can explore '\n",
      "                                      'some interesting stories about the '\n",
      "                                      \"stock market? What's your pick, my \"\n",
      "                                      'friend?',\n",
      "                           'role': 'user'}],\n",
      "            summary='What a great combination!\\n'\n",
      "                    '\\n'\n",
      "                    'Hey John from Malaysia! Did you know that on the KLCI '\n",
      "                    '(Kuala Lumpur Composite Index), which is the main stock '\n",
      "                    'market index in Malaysia, November 24th is considered '\n",
      "                    '\"Black Monday\"? It\\'s because on this day back in 1989, '\n",
      "                    'the index plummeted by 21.5% - the largest one-day '\n",
      "                    'decline ever!\\n'\n",
      "                    '\\n'\n",
      "                    \"But don't worry, John, we can discuss more positive \"\n",
      "                    'things about the Malaysian economy! For instance, did you '\n",
      "                    'know that Malaysia has a thriving e-commerce sector? In '\n",
      "                    \"fact, it's estimated that online shopping will contribute \"\n",
      "                    \"up to RM200 billion (that's about USD 50 billion) to the \"\n",
      "                    \"country's GDP by 2025!\\n\"\n",
      "                    '\\n'\n",
      "                    'Would you like to learn more fun facts or maybe jokes '\n",
      "                    'related to John and Malaysia? Or perhaps we can explore '\n",
      "                    \"some interesting stories about the stock market? What's \"\n",
      "                    'your pick, my friend?',\n",
      "            cost={'usage_excluding_cached_inference': {'llama3.1': {'completion_tokens': 599,\n",
      "                                                                    'cost': 0,\n",
      "                                                                    'prompt_tokens': 1038,\n",
      "                                                                    'total_tokens': 1637},\n",
      "                                                       'total_cost': 0},\n",
      "                  'usage_including_cached_inference': {'llama3.1': {'completion_tokens': 599,\n",
      "                                                                    'cost': 0,\n",
      "                                                                    'prompt_tokens': 1038,\n",
      "                                                                    'total_tokens': 1637},\n",
      "                                                       'total_cost': 0}},\n",
      "            human_input=[])]\n"
     ]
    }
   ],
   "source": [
    "import pprint\n",
    "pprint.pprint(chat_results)"
   ]
  }
 ],
 "metadata": {
  "kernelspec": {
   "display_name": "Python 3",
   "language": "python",
   "name": "python3"
  },
  "language_info": {
   "codemirror_mode": {
    "name": "ipython",
    "version": 3
   },
   "file_extension": ".py",
   "mimetype": "text/x-python",
   "name": "python",
   "nbconvert_exporter": "python",
   "pygments_lexer": "ipython3",
   "version": "3.10.0"
  }
 },
 "nbformat": 4,
 "nbformat_minor": 5
}
